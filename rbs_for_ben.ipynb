{
 "cells": [
  {
   "cell_type": "code",
   "execution_count": 2,
   "metadata": {},
   "outputs": [],
   "source": [
    "import pandas as pd\n",
    "import re\n",
    "import seaborn as sns\n",
    "import matplotlib.pyplot as plt\n",
    "import numpy as np\n",
    "from sklearn.metrics import confusion_matrix\n",
    "from scipy.stats import wilcoxon "
   ]
  },
  {
   "cell_type": "markdown",
   "metadata": {},
   "source": [
    "# I. MLS Detection: Defining Essential Functions\n",
    "\n",
    "Hey Ben. The functions defined below are all sub-functions of a master \"detect_MLS()\" function that will take a dataframe as input and return an additional column called 'model_midline_shift.' \n",
    "\n",
    "It is, admittedly, a bit of a complex pipeline that takes advantage of regular expressions pretty extensively and implements a hierarchy of semantic rules. I can't deny it could probably be improved, but overall it is yielding pretty good results on my data. The documentation and comments might be a little sketchy in this early version, so I do apologize for that too. I can elborate more, especially if you run into issues using it. \n",
    "\n",
    "I don't think there is specific preprocessing that needs to be done for this to work. However, you may find much better results if you use a \"clean_and_featurize\" function, which I have included here, for which you will also need an additional spreadsheet called 'wordgroups.xlsx'. I have included that file in this repo alongside this Jupyter Notebook. This function eases tokenization of the report, and seems to really boost featurization. You will also notice some additional preprocessing where I remove 'confounding' numbers, like spinal levels, hemorrhage dimension, etc. \n",
    "\n",
    "Once you finish running the \"detect_MLS\" function, I also have included a \"compute_MLS_stats()\" function which returns a list of mean absolute error (in mm),accuracy,sensitivity,specificity,NPV, and NPV. All results returned in the 'model_mildine_shift' column will be in millimeters, and I have taken care of the centimeter/millimeter conversions within the code. Hope this works for you!"
   ]
  },
  {
   "cell_type": "markdown",
   "metadata": {},
   "source": [
    "## I.I: Sub-functions within the master \"detect_MLS()\" function."
   ]
  },
  {
   "cell_type": "code",
   "execution_count": 3,
   "metadata": {},
   "outputs": [],
   "source": [
    "def find_column_sum(x1,x2,x3,x4,x5):\n",
    "    counter=0\n",
    "    for i in [x1,x2,x3,x4,x5]:\n",
    "        if i!=0:\n",
    "            counter+=1\n",
    "    return counter\n",
    "\n",
    "def convert_all_to_millimeters(df):\n",
    "    #now further convert down to midline shift in millimeters:\n",
    "    float_pattern =re.compile(r'\\d\\.?\\d?|\\d\\.?\\d?')\n",
    "    mls_millimeters = []\n",
    "    df['model_midline_shift'] = [str(x) for x in df.model_midline_shift]\n",
    "    for entry in df.model_midline_shift:\n",
    "        if 'cm' in entry: #if cm is in the entry, a number probably is too...right?\n",
    "            calculated = 10*float(float_pattern.findall(entry)[0])\n",
    "            mls_millimeters.append(calculated)\n",
    "        elif len(float_pattern.findall(entry))>0:\n",
    "            calculated = float(float_pattern.findall(entry)[0])\n",
    "            mls_millimeters.append(calculated)\n",
    "        else:\n",
    "            mls_millimeters.append(np.nan)\n",
    "    \n",
    "    \n",
    "    df['model_midline_shift'] = mls_millimeters\n",
    "    \n",
    "    return df\n",
    "\n",
    "\n",
    "def clean_and_featurize(df,wordgroups):\n",
    "    \n",
    "    labeled = df\n",
    "    #labeled = labeled[['Report_ID','Report_Text','MLS_mm']] #this is not needed\n",
    "    \n",
    "    #rename columns to relevant\n",
    "    #labeled = labeled.rename(columns={\"Report_ID\": \"Report_Number\"})\n",
    "    \n",
    "    # Keep only those with IMPRESSIONS\n",
    "    labeled = labeled.iloc[[x for x in range(labeled.shape[0]) if 'IMPRESSION:' in labeled.Report_Text.iloc[x]]]\n",
    "    \n",
    "    # replace whitespace with space ***************************\n",
    "    labeled['Report_Text_clean'] = labeled['Report_Text'].apply(lambda text: ' '.join(text.split()))\n",
    "    \n",
    "    #REMOVE HEADER:\n",
    "    labeled['Report_Text_clean'] = labeled.Report_Text_clean.apply(lambda text: re.split('-'*78, text, 1)[-1])\n",
    "    labeled['Report_Text_clean'] = labeled.Report_Text_clean.apply(lambda text: re.split('HISTORY:', text, 1)[-1])\n",
    "    labeled['Report_Text_clean'] = labeled.Report_Text_clean.apply(lambda text: re.split('REPORT ', text, 1)[-1])\n",
    "    labeled['Report_Text_clean'] = labeled.Report_Text_clean.apply(lambda text: re.split('REPORT:', text, 1)[-1])\n",
    "    \n",
    "    #REMOVE FOOTER:\n",
    "    # Remove footer parts\n",
    "    labeled['Report_Text_clean'] = labeled.Report_Text_clean.apply(lambda text: \n",
    "                                                       re.split('electronically signed by:', text, flags=re.IGNORECASE)[0])\n",
    "    labeled['Report_Text_clean'] = labeled.Report_Text_clean.apply(lambda text: \n",
    "                                                       ''.join(re.split('i, the teaching physician, have reviewed the images and agree with the report as written', text, flags=re.IGNORECASE)))\n",
    "    labeled['Report_Text_clean'] = labeled.Report_Text_clean.apply(lambda text: \n",
    "                                                       re.split('radiologists: signatures:', text, flags=re.IGNORECASE)[0])\n",
    "    labeled['Report_Text_clean'] = labeled.Report_Text_clean.apply(lambda text: \n",
    "                                                       re.split('providers: signatures:', text, flags=re.IGNORECASE)[0])\n",
    "    labeled['Report_Text_clean'] = labeled.Report_Text_clean.apply(lambda text: \n",
    "                                                       re.split('findings were discussed on', text, flags=re.IGNORECASE)[0])\n",
    "    labeled['Report_Text_clean'] = labeled.Report_Text_clean.apply(lambda text: \n",
    "                                                       re.split('this report was electronically signed by', text, flags=re.IGNORECASE)[0])\n",
    "\n",
    "    # Remove reference texts =====\n",
    "    labeled['Report_Text_clean'] = labeled.Report_Text_clean.apply(lambda text: ''.join([x for i,x in enumerate(text.split('='*34)) if i != 1]))\n",
    "    \n",
    "    labeled['Report_Text_clean'] = labeled.Report_Text_clean.apply(lambda text: text.lower())\n",
    "    \n",
    "    \n",
    "    # Replace ngrams in Report_Text & IMPRESSION with their units\n",
    "    for group in wordgroups:\n",
    "        labeled['Report_Text_clean'] = labeled.Report_Text_clean.apply(lambda text: text.replace(group, ''.join(group.split())))\n",
    "\n",
    "    labeled = labeled.drop_duplicates(subset=['Report_ID'])\n",
    "    labeled = labeled.reset_index(drop=True)\n",
    "    \n",
    "    return labeled\n",
    "\n",
    "\n",
    "#1a\n",
    "def zero_mls_detector(df):\n",
    "    \"\"\"Crude check if midline shift is zero\"\"\"\n",
    "    reports = df['Report_Text_clean']\n",
    "    num_pattern = re.compile(r'\\d')\n",
    "    mls_shifts = []\n",
    "    \n",
    "    for report in reports: \n",
    "        #split by sentences\n",
    "        split_list = re.split('\\.',report)\n",
    "        #only take sentences w/ the the follow keywords in them\n",
    "        shift_list = [x for x in split_list if 'shift' in x]\n",
    "        deviation_list= [x for x in split_list if 'deviation' in x]\n",
    "        herniation_list= [x for x in split_list if 'herniation' in x]\n",
    "        now_list= [x for x in split_list if 'now' in x]\n",
    "        \n",
    "        \n",
    "        \n",
    "        final_list = shift_list+deviation_list+herniation_list+now_list\n",
    "\n",
    "        tracker = 0\n",
    "        #for all sentences with 'shift' in them\n",
    "        for sentence in final_list:\n",
    "            if num_pattern.search(sentence): #if you get a numerical match, update tracker\n",
    "                tracker +=1\n",
    "        if tracker >0:\n",
    "            mls_shifts.append(-1)\n",
    "        else:\n",
    "            mls_shifts.append(0)\n",
    "            \n",
    "    df['model_midline_shift']=mls_shifts\n",
    "        \n",
    "    return df\n",
    "\n",
    "#1b\n",
    "def no_midlineshift(df):\n",
    "    reports = df['Report_Text_clean']\n",
    "    mls_shifts = []\n",
    "    \n",
    "    for report in reports:\n",
    "        if np.logical_or('no midlineshift' in report,'without midlineshift' in report):\n",
    "            mls_shifts.append(0)\n",
    "\n",
    "        else:\n",
    "\n",
    "            mls_shifts.append(-1)\n",
    "    \n",
    "\n",
    "    df['model_midline_shift']=mls_shifts\n",
    "    \n",
    "    return df\n",
    "\n",
    "#1c\n",
    "def no_keywords(df):\n",
    "    reports = df['Report_Text_clean']\n",
    "    mls_shifts = []\n",
    "    keywords = ['shift','deviation','herniation']\n",
    "    for report in reports:\n",
    "        tracker = 0\n",
    "        for word in keywords:\n",
    "            if word in report:\n",
    "                tracker+=1\n",
    "        \n",
    "        if tracker==0: #if you don't identify any of the keywords...\n",
    "            mls_shifts.append(0)\n",
    "        else:\n",
    "            mls_shifts.append(-1)\n",
    "\n",
    "    df['model_midline_shift']=mls_shifts\n",
    "    \n",
    "    return df\n",
    "\n",
    "def to_from(df): #done\n",
    "    \"\"\"from ... to\"\"\"\n",
    "    list_of_midlineshifts = []\n",
    "    \n",
    "    #to/from...from/to\n",
    "    pattern = re.compile(r'shift.+from.+\\d.+to.+mm|shift.+from.+\\d.+to.+cm|shift.+to.+\\d.+from.+mm|shift.+to.+\\d.+from.+cm')\n",
    "    to_pattern =re.compile(r'to\\s\\d\\.?\\d?\\smm|to\\s\\d\\.?\\d?\\scm')\n",
    "    num_pattern = re.compile(r'\\d\\.?\\d?\\smm|\\d\\.?\\d?\\scm')\n",
    "    \n",
    "    for report in df['Report_Text_clean']:\n",
    "        match_1 = pattern.findall(report)\n",
    "        \n",
    "        if len(match_1)>0: #if you return at least SOMETHING from this match...     \n",
    "            initial_match = match_1[0]\n",
    "            \n",
    "            if len(to_pattern.findall(initial_match))>0: #if you find a number...\n",
    "                num_to=to_pattern.findall(initial_match)[0] #'to ...cm/mm'\n",
    "                \n",
    "                list_of_midlineshifts.append(num_pattern.findall(num_to)[0]) #to comes after from\n",
    "            else:\n",
    "                list_of_midlineshifts.append(-1) #if you don't match on \n",
    "        else:\n",
    "            list_of_midlineshifts.append(-1)\n",
    "    \n",
    "    df['model_midline_shift']=list_of_midlineshifts\n",
    "    return df\n",
    "\n",
    "def now_measuring(df):\n",
    "    list_of_midlineshifts=[]\n",
    "    \n",
    "    #non-greedy matching on 'shift...now...mm/cm'\n",
    "    full_phrase_pattern=re.compile('shift.+now.+?mm|shift.+now.+?cm|deviation.+now.+?mm|deviation.+now.+?cm|herniation.+now.+?mm|herniation.+now.+?cm')\n",
    "    \n",
    "    #number matching\n",
    "    num_pattern =re.compile(r'\\d{,2}\\.?\\d?\\smm|\\d{,2}\\.?\\d?\\scm|\\d{,2}\\.?\\d?mm|\\d{,2}\\.?\\d?cm')\n",
    "    \n",
    "    \n",
    "    for report in df['Report_Text_clean']:\n",
    "        match_1 = full_phrase_pattern.search(report)\n",
    "        if match_1: #if you get a match back\n",
    "            to_match=match_1[0] #get out the resultant string from the search object\n",
    "            \n",
    "            match_2=num_pattern.search(to_match) #try to get out a number from your initial match\n",
    "            \n",
    "            if match_2:\n",
    "                list_of_midlineshifts.append(match_2[0])\n",
    "        \n",
    "            else:\n",
    "                list_of_midlineshifts.append(-1) #if you don't get a number, append -1\n",
    "        \n",
    "        else:\n",
    "            list_of_midlineshifts.append(-1)\n",
    "        \n",
    "\n",
    "    df['model_midline_shift']=list_of_midlineshifts\n",
    "            \n",
    "    return df\n",
    "\n",
    "def shift_1(df): #done\n",
    "    \"\"\"Midline shift ..... cm/mm\"\"\"\n",
    "    list_of_midlineshifts = []\n",
    "    pattern = re.compile(r'shift.+\\d\\smm|shift.+\\d\\scm|herniation.+\\d\\smm|herniation.+\\d\\scm|deviation.+\\d\\smm|deviation.+\\d\\scm')\n",
    "    num_pattern =re.compile(r'\\d\\.?\\d?\\smm|\\d\\.?\\d?\\scm|\\d\\smm|\\d\\scm')\n",
    "    \n",
    "    for report in df['Report_Text_clean']:\n",
    "        match_1 = pattern.findall(report)\n",
    "        \n",
    "        if match_1:   #if this match exists \n",
    "            initial_match = match_1[0] #retrieve the first string from the match\n",
    "\n",
    "            list_of_midlineshifts.append(num_pattern.findall(initial_match)[0]) #retrieve the number + mm/cm\n",
    "        else:\n",
    "            list_of_midlineshifts.append(-1) #append a dummy value if no matches found\n",
    "    \n",
    "    df['model_midline_shift']=list_of_midlineshifts #return dataframe w/ model_midline_shift esimated\n",
    "    return df\n",
    "\n",
    "\n",
    "def shift_2(df): #To-Do!\n",
    "    \"\"\"...cm/mm ....midline shift\"\"\"\n",
    "    list_of_midlineshifts = []\n",
    "    pattern = re.compile(r'\\d\\.?\\d?\\smm.+?shift|\\d\\.?\\d?\\scm.+?shift|\\d\\.?\\d?\\smm.+?herniation|\\d\\.?\\d?\\scm.+?herniation|\\d\\.?\\d?\\smm.+?deviation|\\d\\.?\\d?\\scm.+?deviation')\n",
    "    num_pattern =re.compile(r'\\d\\.?\\d?\\smm|\\d\\.?\\d?\\scm|\\d\\smm|\\d\\scm')\n",
    "    for report in df['Report_Text_clean']:\n",
    "        match_1 = pattern.findall(report)\n",
    "        \n",
    "        if match_1:    \n",
    "            initial_match = match_1[0]\n",
    "\n",
    "            list_of_midlineshifts.append(num_pattern.findall(initial_match)[0])\n",
    "        else:\n",
    "            list_of_midlineshifts.append(-1)\n",
    "    \n",
    "    df['model_midline_shift']=list_of_midlineshifts\n",
    "    return df\n",
    "\n",
    "def nonzero_rule_system(df):\n",
    "    \n",
    "    #df=df[['Report_Text_clean','MLS_mm']]\n",
    "    df['model_midline_shift']=np.zeros(len(df))\n",
    "\n",
    "    #now add in rules:\n",
    "    df['no_mls']=np.zeros(len(df))\n",
    "    df['to_from']=np.zeros(len(df))\n",
    "    df['now_measuring']=np.zeros(len(df))\n",
    "    df['shift_1']=np.zeros(len(df))\n",
    "    df['shift_2']=np.zeros(len(df))\n",
    "    df['rules_satisfied']=np.zeros(len(df))\n",
    "    df['shift_2']=np.zeros(len(df))\n",
    "\n",
    "\n",
    "    #Sub floats for \"French numerals\"\n",
    "    modded_reports = [re.sub(r'(\\d)\\.(\\d)', r'\\g<1>,\\g<2>',report) for report in df['Report_Text_clean']]\n",
    "    df['Report_Text_clean']=modded_reports\n",
    "\n",
    "    #rules\n",
    "    no_mls_re = re.compile(r'no midlineshift|no midline shift')\n",
    "    shift1_pattern = re.compile(r'shift.+\\d\\smm|shift.+\\d\\scm|herniation.+\\d\\smm|herniation.+\\d\\scm|deviation.+\\d\\smm|deviation.+\\d\\scm')\n",
    "    shift2_pattern = re.compile(r'\\d,?\\d?\\smm.+?shift|\\d,?\\d?\\scm.+?shift|\\d,?\\d?\\smm.+?herniation|\\d,?\\d?\\scm.+?herniation|\\d,?\\d?\\smm.+?deviation|\\d,?\\d?\\scm.+?deviation')\n",
    "    now_measuring=re.compile('shift.+now.+?mm|shift.+now.+?cm|deviation.+now.+?mm|deviation.+now.+?cm|herniation.+now.+?mm|herniation.+now.+?cm')\n",
    "\n",
    "    to_from = re.compile(r'shift.+from.+\\d.+to.+mm|shift.+from.+\\d.+to.+cm|shift.+to.+\\d.+from.+mm|shift.+to.+\\d.+from.+cm')\n",
    "    to_ =re.compile(r'to.+\\d\\.?\\d?\\smm|to.+\\d\\.?\\d?\\scm')\n",
    "\n",
    "\n",
    "    no_mls=[]\n",
    "\n",
    "    #no MLS\n",
    "    for i,row in df.iterrows():\n",
    "\n",
    "        doc = []\n",
    "        for sentence in row['Report_Text_clean'].split('.'):\n",
    "\n",
    "\n",
    "\n",
    "            if len(no_mls_re.findall(sentence))>0:\n",
    "                doc.append(no_mls_re.findall(sentence)[0])\n",
    "\n",
    "\n",
    "            else:\n",
    "                pass\n",
    "\n",
    "        if len(doc)>0:\n",
    "            no_mls.append(doc[0])\n",
    "        else:\n",
    "            no_mls.append(0)\n",
    "\n",
    "\n",
    "    #         else:\n",
    "    #             row['no_mls']=0\n",
    "    shift_1=[]\n",
    "\n",
    "    #shift 1            \n",
    "    for i,row in df.iterrows():\n",
    "        doc=[]\n",
    "\n",
    "        for sentence in row['Report_Text_clean'].split('.'):\n",
    "\n",
    "            if len(shift1_pattern.findall(sentence))>0:\n",
    "                doc.append(shift1_pattern.findall(sentence)[0])\n",
    "            else:\n",
    "                pass\n",
    "\n",
    "        if len(doc)>0:\n",
    "            shift_1.append(doc[0])\n",
    "        else:\n",
    "            shift_1.append(0)\n",
    "\n",
    "    shift_2=[]\n",
    "\n",
    "    #shift 2:\n",
    "    for i,row in df.iterrows():\n",
    "        doc=[]\n",
    "\n",
    "        for sentence in row['Report_Text_clean'].split('.'):\n",
    "\n",
    "            if len(shift2_pattern.findall(sentence))>0:\n",
    "                doc.append(shift2_pattern.findall(sentence)[0])\n",
    "            else:\n",
    "                pass\n",
    "\n",
    "        if len(doc)>0:\n",
    "            shift_2.append(doc[0])\n",
    "        else:\n",
    "            shift_2.append(0)\n",
    "\n",
    "\n",
    "    now_measure=[]\n",
    "    #now measuring:\n",
    "    for i,row in df.iterrows():\n",
    "        doc=[]\n",
    "\n",
    "        for sentence in row['Report_Text_clean'].split('.'):\n",
    "\n",
    "            if len(now_measuring.findall(sentence))>0:\n",
    "                doc.append(now_measuring.findall(sentence)[0])\n",
    "            else:\n",
    "                pass\n",
    "\n",
    "        if len(doc)>0:\n",
    "            now_measure.append(doc[0])\n",
    "        else:\n",
    "            now_measure.append(0)\n",
    "\n",
    "    to_fro=[]\n",
    "    #to-from:\n",
    "    for i,row in df.iterrows():\n",
    "        doc=[]\n",
    "\n",
    "        for sentence in row['Report_Text_clean'].split('.'):\n",
    "\n",
    "            if len(to_from.findall(sentence))>0:\n",
    "                match=to_from.findall(sentence)[0]\n",
    "                doc.append(match)\n",
    "\n",
    "    #             if len(to_.findall(match))>0:\n",
    "    #                 doc.append(to_.findall(match)[0])\n",
    "            else:\n",
    "                pass\n",
    "\n",
    "        if len(doc)>0:\n",
    "            to_fro.append(doc[0])\n",
    "        else:\n",
    "            to_fro.append(0)\n",
    "\n",
    "\n",
    "    df['no_mls']=no_mls\n",
    "    df['to_from']=to_fro\n",
    "    df['now_measuring']=now_measure\n",
    "    df['shift_1']=shift_1\n",
    "    df['shift_2']=shift_2\n",
    "\n",
    "\n",
    "    df['rules_satisfied']=df.apply(lambda x: find_column_sum(x['no_mls'],x['to_from'],\n",
    "                                                                  x['now_measuring'],x['shift_1'],x['shift_2']),axis=1)\n",
    "    #must still account for places where no rules were satisfied\n",
    "    df_zero=df[df['rules_satisfied']==0]\n",
    "    df_zero['model_midline_shift']=len(df_zero)*['0']\n",
    "    \n",
    "    df=df[df['rules_satisfied']!=0]\n",
    "\n",
    "    only_one_rule = df[df['rules_satisfied']==1]\n",
    "    multiple_rules = df[df['rules_satisfied']>1]\n",
    "\n",
    "    num_pattern = re.compile(r'\\d\\.?\\d?\\s?mm|\\d\\.?\\d?\\s?cm|\\d\\,?\\d?\\s?mm|\\d\\,?\\d?\\s?cm')\n",
    "\n",
    "    midline_shifts=[]\n",
    "\n",
    "    #hello\n",
    "    for i,row in only_one_rule.iterrows():\n",
    "\n",
    "        if row['no_mls']!=0:\n",
    "\n",
    "            midline_shifts.append('0 mm')\n",
    "\n",
    "        elif row['to_from']!=0:\n",
    "            try:\n",
    "\n",
    "                midline_shifts.append(num_pattern.findall(row['to_from'])[0])\n",
    "            except:\n",
    "                midline_shifts.append('0.0')\n",
    "            \n",
    "   \n",
    "\n",
    "        #elif row['now_measuring']!=0:\n",
    "\n",
    "        elif row['now_measuring']!=0:\n",
    "            try:\n",
    "#         elif len(num_pattern.findall(row['now_measuring'])[0])>0:\n",
    "                midline_shifts.append(num_pattern.findall(row['now_measuring'])[0])\n",
    "            except:\n",
    "                midline_shifts.append('0.0')\n",
    "\n",
    "        elif row['shift_1']!=0:\n",
    "            try:\n",
    "\n",
    "                midline_shifts.append(num_pattern.findall(row['shift_1'])[0])\n",
    "            except:\n",
    "                midline_shifts.append('0.0')\n",
    "            \n",
    "        elif row['shift_2']!=0:\n",
    "            try:\n",
    "                midline_shifts.append(num_pattern.findall(row['shift_2'])[0])\n",
    "            except:\n",
    "                midline_shifts.append('0.0')\n",
    "\n",
    "    only_one_rule['model_midline_shift']=midline_shifts\n",
    "\n",
    "    num_pattern = re.compile(r'\\d\\.?\\d?\\s?mm|\\d\\.?\\d?\\s?cm|\\d\\,?\\d?\\s?mm|\\d\\,?\\d?\\s?cm')\n",
    "\n",
    "    midline_shifts=[]\n",
    "\n",
    "    for i,row in multiple_rules.iterrows():\n",
    "\n",
    "\n",
    "        if row['to_from']!=0:\n",
    "            try:\n",
    "\n",
    "                midline_shifts.append(num_pattern.findall(row['to_from'])[0])\n",
    "            except:\n",
    "                midline_shifts.append('0.0')\n",
    "\n",
    "\n",
    "        elif row['now_measuring']!=0:\n",
    "            try:\n",
    "\n",
    "                midline_shifts.append(num_pattern.findall(row['now_measuring'])[0])\n",
    "            except:\n",
    "                midline_shifts.append('0.0')\n",
    "\n",
    "        elif row['shift_1']!=0:\n",
    "            try:\n",
    "\n",
    "                midline_shifts.append(num_pattern.findall(row['shift_1'])[0])\n",
    "            except:\n",
    "                midline_shifts.append('0.0')\n",
    "\n",
    "        elif row['shift_2']!=0:\n",
    "            try:\n",
    "\n",
    "                midline_shifts.append(num_pattern.findall(row['shift_2'])[0])\n",
    "            except:\n",
    "                midline_shifts.append('0.0')\n",
    "\n",
    "    multiple_rules['model_midline_shift']=midline_shifts\n",
    "\n",
    "    all_nonzero=pd.concat([df_zero,only_one_rule,multiple_rules])\n",
    "    backmodded_mls = [re.sub(r'(\\d)\\,(\\d)', r'\\g<1>.\\g<2>',num) for num in all_nonzero['model_midline_shift']]\n",
    "    all_nonzero['model_midline_shift']=backmodded_mls\n",
    "\n",
    "    all_nonzero_mm = convert_all_to_millimeters(all_nonzero)\n",
    "    \n",
    "    return all_nonzero_mm\n"
   ]
  },
  {
   "cell_type": "markdown",
   "metadata": {},
   "source": [
    "## I.II: The master \"detect_MLS()\" function"
   ]
  },
  {
   "cell_type": "code",
   "execution_count": 4,
   "metadata": {},
   "outputs": [],
   "source": [
    "def detect_MLS(df,preprocess=True):\n",
    "    #grab original columns of the dataframe so no superfluous data is taken\n",
    "    original_columns=df.columns\n",
    "    \n",
    "    #implement clean_and_featurize if clean_and_featurize=True:\n",
    "    if preprocess:\n",
    "        df=clean_and_featurize(df,wordgroups) #this is recommended\n",
    "    \n",
    "    \n",
    "    ######FURTHER PREPROCESSING TO REMOVE SPINAL LEVELS, MRI WEIGHTING, ETC#######\n",
    "    \n",
    "    prepro_list_1 = []\n",
    "\n",
    "    #take only the \"findings\"\n",
    "    for i in list(df['Report_Text_clean']):\n",
    "        if 'findings:' in i:\n",
    "        #take the stuff AFTER findings\n",
    "            prepro_list_1.append(i.split('findings:')[1])\n",
    "        else:\n",
    "            prepro_list_1.append(i)\n",
    "\n",
    "    df['Report_Text_clean']=prepro_list_1\n",
    "\n",
    "\n",
    "    regex_subs = [] #will hold all report texts after appropriate substitutions\n",
    "\n",
    "    t1_t2_regex=re.compile(r't\\d') #eg t1/t2 weighted\n",
    "    vessel_regex=re.compile(r'm\\d') #eg m1 segment\n",
    "    hashtag_numbering_regex = re.compile(r'#\\d') #for #numbering\n",
    "    spine_regex = re.compile(r'c\\d|c\\d-c\\d') #for spinal levels\n",
    "    time_regex = re.compile(r'\\d{,2}:\\d{,2}') #for times, eg 10:00 PM\n",
    "    date_regex_1=re.compile(r'\\d+/\\d+/\\d+')\n",
    "    hemorrhage_regex = re.compile(r'\\d\\.\\d.+x.+\\d\\.\\d')\n",
    "\n",
    "\n",
    "    for i in list(df['Report_Text_clean']):\n",
    "        modded = re.sub(t1_t2_regex,'xxMRI_WEIGHTLxx',i)\n",
    "        modded = re.sub(vessel_regex,'xxVESSELxx',modded)\n",
    "        modded=re.sub(hashtag_numbering_regex,'xxHASHTAGxx',modded)\n",
    "        modded=re.sub(time_regex,'xxTIMExx',modded)\n",
    "        modded = re.sub(date_regex_1,'xxDATExx',modded)\n",
    "        modded = re.sub(spine_regex,'xxSpinalLevelxx',modded)\n",
    "        #modded = re.sub(hemorrhage_regex,'xxHEMORRHAGE_DIMSlxx',modded)\n",
    "\n",
    "        regex_subs.append(modded)\n",
    "    regex_subs    \n",
    "\n",
    "    df['Report_Text_clean']=regex_subs\n",
    "    \n",
    "    #######SCREENING REPORTS FOR SATISFYING 'NEGATIVE RULES'##########\n",
    "    #Rule 1a\n",
    "    in_1 = zero_mls_detector(df)\n",
    "    out_1 = in_1[in_1.model_midline_shift !=-1].reset_index(drop=True) #pull out this dataframe for good! \n",
    "    next_1 = in_1[in_1.model_midline_shift ==-1]\n",
    "\n",
    "\n",
    "    #1b: t\n",
    "    in_2 = no_midlineshift(next_1)\n",
    "    out_2 = in_2[in_2.model_midline_shift !=-1].reset_index(drop=True) #pull out this dataframe for good! \n",
    "    next_2 = in_2[in_2.model_midline_shift ==-1].reset_index(drop=True)\n",
    "\n",
    "    #1c:\n",
    "    in_3 = no_keywords(next_2)\n",
    "    out_3 = in_3[in_3.model_midline_shift !=-1].reset_index(drop=True) #pull out this dataframe for good! \n",
    "    next_3 = in_3[in_3.model_midline_shift ==-1].reset_index(drop=True)\n",
    "    \n",
    "    all_zero=pd.concat([out_1,out_2,out_3])\n",
    "    \n",
    "    ######SCREENING REPORTS FOR SATISFYING 'POSITIVE RULES'##################\n",
    "    all_nonzero=nonzero_rule_system(next_3)\n",
    "    \n",
    "    all_cases = pd.concat([all_zero,all_nonzero])\n",
    "    \n",
    "    #new_columns=original_columns + ['model_midline_shift']\n",
    "    \n",
    "\n",
    "#     #new_columns=new=['rules_satisfied', 'shift_1', 'shift_2','to_from',\n",
    "#                      'no_mls', 'now_measuring']\n",
    "    \n",
    "    #return more-or-less the original dataframe after postprocessing\n",
    "    #all_cases=all_cases.drop(labels=new_columns,axis=1)\n",
    "    \n",
    "    return all_cases"
   ]
  },
  {
   "cell_type": "code",
   "execution_count": 5,
   "metadata": {},
   "outputs": [],
   "source": [
    "df = pd.read_csv('6.1.21 deidComplete REDCap Reports Non-duplicate Version 3.csv')\n",
    "df.rename(columns={'report_text': 'Report_Text', 'mls_mm_v2': 'MLS_mm','record_id':'Report_ID'}, inplace=True)\n",
    "wordgroups = list(pd.read_excel('wordgroups.xlsx')['Word Groupings'])\n",
    "\n"
   ]
  },
  {
   "cell_type": "code",
   "execution_count": 7,
   "metadata": {},
   "outputs": [
    {
     "name": "stderr",
     "output_type": "stream",
     "text": [
      "/opt/anaconda3/lib/python3.7/site-packages/ipykernel_launcher.py:41: SettingWithCopyWarning: \n",
      "A value is trying to be set on a copy of a slice from a DataFrame.\n",
      "Try using .loc[row_indexer,col_indexer] = value instead\n",
      "\n",
      "See the caveats in the documentation: http://pandas.pydata.org/pandas-docs/stable/user_guide/indexing.html#returning-a-view-versus-a-copy\n",
      "/opt/anaconda3/lib/python3.7/site-packages/ipykernel_launcher.py:44: SettingWithCopyWarning: \n",
      "A value is trying to be set on a copy of a slice from a DataFrame.\n",
      "Try using .loc[row_indexer,col_indexer] = value instead\n",
      "\n",
      "See the caveats in the documentation: http://pandas.pydata.org/pandas-docs/stable/user_guide/indexing.html#returning-a-view-versus-a-copy\n",
      "/opt/anaconda3/lib/python3.7/site-packages/ipykernel_launcher.py:45: SettingWithCopyWarning: \n",
      "A value is trying to be set on a copy of a slice from a DataFrame.\n",
      "Try using .loc[row_indexer,col_indexer] = value instead\n",
      "\n",
      "See the caveats in the documentation: http://pandas.pydata.org/pandas-docs/stable/user_guide/indexing.html#returning-a-view-versus-a-copy\n",
      "/opt/anaconda3/lib/python3.7/site-packages/ipykernel_launcher.py:46: SettingWithCopyWarning: \n",
      "A value is trying to be set on a copy of a slice from a DataFrame.\n",
      "Try using .loc[row_indexer,col_indexer] = value instead\n",
      "\n",
      "See the caveats in the documentation: http://pandas.pydata.org/pandas-docs/stable/user_guide/indexing.html#returning-a-view-versus-a-copy\n",
      "/opt/anaconda3/lib/python3.7/site-packages/ipykernel_launcher.py:47: SettingWithCopyWarning: \n",
      "A value is trying to be set on a copy of a slice from a DataFrame.\n",
      "Try using .loc[row_indexer,col_indexer] = value instead\n",
      "\n",
      "See the caveats in the documentation: http://pandas.pydata.org/pandas-docs/stable/user_guide/indexing.html#returning-a-view-versus-a-copy\n",
      "/opt/anaconda3/lib/python3.7/site-packages/ipykernel_launcher.py:51: SettingWithCopyWarning: \n",
      "A value is trying to be set on a copy of a slice from a DataFrame.\n",
      "Try using .loc[row_indexer,col_indexer] = value instead\n",
      "\n",
      "See the caveats in the documentation: http://pandas.pydata.org/pandas-docs/stable/user_guide/indexing.html#returning-a-view-versus-a-copy\n",
      "/opt/anaconda3/lib/python3.7/site-packages/ipykernel_launcher.py:53: SettingWithCopyWarning: \n",
      "A value is trying to be set on a copy of a slice from a DataFrame.\n",
      "Try using .loc[row_indexer,col_indexer] = value instead\n",
      "\n",
      "See the caveats in the documentation: http://pandas.pydata.org/pandas-docs/stable/user_guide/indexing.html#returning-a-view-versus-a-copy\n",
      "/opt/anaconda3/lib/python3.7/site-packages/ipykernel_launcher.py:55: SettingWithCopyWarning: \n",
      "A value is trying to be set on a copy of a slice from a DataFrame.\n",
      "Try using .loc[row_indexer,col_indexer] = value instead\n",
      "\n",
      "See the caveats in the documentation: http://pandas.pydata.org/pandas-docs/stable/user_guide/indexing.html#returning-a-view-versus-a-copy\n",
      "/opt/anaconda3/lib/python3.7/site-packages/ipykernel_launcher.py:57: SettingWithCopyWarning: \n",
      "A value is trying to be set on a copy of a slice from a DataFrame.\n",
      "Try using .loc[row_indexer,col_indexer] = value instead\n",
      "\n",
      "See the caveats in the documentation: http://pandas.pydata.org/pandas-docs/stable/user_guide/indexing.html#returning-a-view-versus-a-copy\n",
      "/opt/anaconda3/lib/python3.7/site-packages/ipykernel_launcher.py:59: SettingWithCopyWarning: \n",
      "A value is trying to be set on a copy of a slice from a DataFrame.\n",
      "Try using .loc[row_indexer,col_indexer] = value instead\n",
      "\n",
      "See the caveats in the documentation: http://pandas.pydata.org/pandas-docs/stable/user_guide/indexing.html#returning-a-view-versus-a-copy\n",
      "/opt/anaconda3/lib/python3.7/site-packages/ipykernel_launcher.py:61: SettingWithCopyWarning: \n",
      "A value is trying to be set on a copy of a slice from a DataFrame.\n",
      "Try using .loc[row_indexer,col_indexer] = value instead\n",
      "\n",
      "See the caveats in the documentation: http://pandas.pydata.org/pandas-docs/stable/user_guide/indexing.html#returning-a-view-versus-a-copy\n",
      "/opt/anaconda3/lib/python3.7/site-packages/ipykernel_launcher.py:65: SettingWithCopyWarning: \n",
      "A value is trying to be set on a copy of a slice from a DataFrame.\n",
      "Try using .loc[row_indexer,col_indexer] = value instead\n",
      "\n",
      "See the caveats in the documentation: http://pandas.pydata.org/pandas-docs/stable/user_guide/indexing.html#returning-a-view-versus-a-copy\n",
      "/opt/anaconda3/lib/python3.7/site-packages/ipykernel_launcher.py:67: SettingWithCopyWarning: \n",
      "A value is trying to be set on a copy of a slice from a DataFrame.\n",
      "Try using .loc[row_indexer,col_indexer] = value instead\n",
      "\n",
      "See the caveats in the documentation: http://pandas.pydata.org/pandas-docs/stable/user_guide/indexing.html#returning-a-view-versus-a-copy\n",
      "/opt/anaconda3/lib/python3.7/site-packages/ipykernel_launcher.py:72: SettingWithCopyWarning: \n",
      "A value is trying to be set on a copy of a slice from a DataFrame.\n",
      "Try using .loc[row_indexer,col_indexer] = value instead\n",
      "\n",
      "See the caveats in the documentation: http://pandas.pydata.org/pandas-docs/stable/user_guide/indexing.html#returning-a-view-versus-a-copy\n",
      "/opt/anaconda3/lib/python3.7/site-packages/ipykernel_launcher.py:128: SettingWithCopyWarning: \n",
      "A value is trying to be set on a copy of a slice from a DataFrame.\n",
      "Try using .loc[row_indexer,col_indexer] = value instead\n",
      "\n",
      "See the caveats in the documentation: http://pandas.pydata.org/pandas-docs/stable/user_guide/indexing.html#returning-a-view-versus-a-copy\n"
     ]
    },
    {
     "name": "stdout",
     "output_type": "stream",
     "text": [
      "2.201432704925537\n"
     ]
    },
    {
     "name": "stderr",
     "output_type": "stream",
     "text": [
      "/opt/anaconda3/lib/python3.7/site-packages/ipykernel_launcher.py:389: SettingWithCopyWarning: \n",
      "A value is trying to be set on a copy of a slice from a DataFrame.\n",
      "Try using .loc[row_indexer,col_indexer] = value instead\n",
      "\n",
      "See the caveats in the documentation: http://pandas.pydata.org/pandas-docs/stable/user_guide/indexing.html#returning-a-view-versus-a-copy\n",
      "/opt/anaconda3/lib/python3.7/site-packages/ipykernel_launcher.py:438: SettingWithCopyWarning: \n",
      "A value is trying to be set on a copy of a slice from a DataFrame.\n",
      "Try using .loc[row_indexer,col_indexer] = value instead\n",
      "\n",
      "See the caveats in the documentation: http://pandas.pydata.org/pandas-docs/stable/user_guide/indexing.html#returning-a-view-versus-a-copy\n",
      "/opt/anaconda3/lib/python3.7/site-packages/ipykernel_launcher.py:476: SettingWithCopyWarning: \n",
      "A value is trying to be set on a copy of a slice from a DataFrame.\n",
      "Try using .loc[row_indexer,col_indexer] = value instead\n",
      "\n",
      "See the caveats in the documentation: http://pandas.pydata.org/pandas-docs/stable/user_guide/indexing.html#returning-a-view-versus-a-copy\n",
      "/opt/anaconda3/lib/python3.7/site-packages/ipykernel_launcher.py:72: FutureWarning: Sorting because non-concatenation axis is not aligned. A future version\n",
      "of pandas will change to not sort by default.\n",
      "\n",
      "To accept the future behavior, pass 'sort=False'.\n",
      "\n",
      "To retain the current behavior and silence the warning, pass 'sort=True'.\n",
      "\n"
     ]
    }
   ],
   "source": [
    "import time\n",
    "t0=time.time()\n",
    "mls_detected=detect_MLS(df)\n",
    "t1=time.time()\n",
    "total=t1-t0\n",
    "print(total)"
   ]
  },
  {
   "cell_type": "markdown",
   "metadata": {},
   "source": [
    "## Plotting"
   ]
  },
  {
   "cell_type": "code",
   "execution_count": 7,
   "metadata": {},
   "outputs": [],
   "source": [
    "def plot_rbs_scatter(df):\n",
    "    zero_df=df[df['model_midline_shift']==0].sample(frac=0.05).fillna(0)\n",
    "    nonzero_df=df[df['model_midline_shift']!=0].sample(frac=0.25)\n",
    "    \n",
    "    #put dataframe back together\n",
    "    df_for_plotting=pd.concat([zero_df,nonzero_df])\n",
    "    df_for_plotting=df_for_plotting.sample(frac=1, axis=1).sample(frac=1).reset_index(drop=True)\n",
    "    \n",
    "    fig,ax=plt.subplots()\n",
    "    \n",
    "    ax.plot(df_for_plotting['model_midline_shift'],'rx',label='Model Estimate',markersize=5)\n",
    "    ax.plot(df_for_plotting['MLS_mm'],'yo',alpha=0.3,label='Ground Truth',markersize=8)\n",
    "    plt.title(\"Midline Shift: MGB Any\")\n",
    "    plt.legend(loc='upper right')\n",
    "    plt.ylim(-1,25)\n",
    "    plt.ylabel('Midline Shift')\n",
    "    plt.xlabel('Report Index')\n",
    "    \n",
    "    \n",
    "    "
   ]
  },
  {
   "cell_type": "code",
   "execution_count": 8,
   "metadata": {},
   "outputs": [
    {
     "data": {
      "image/png": "[encoded data removed]",
      "text/plain": [
       "<Figure size 432x288 with 1 Axes>"
      ]
     },
     "metadata": {
      "needs_background": "light"
     },
     "output_type": "display_data"
    }
   ],
   "source": [
    "plot_rbs_scatter(mls_detected)"
   ]
  },
  {
   "cell_type": "code",
   "execution_count": 9,
   "metadata": {},
   "outputs": [
    {
     "data": {
      "text/plain": [
       "Text(0.5, 0, 'Report Index')"
      ]
     },
     "execution_count": 9,
     "metadata": {},
     "output_type": "execute_result"
    },
    {
     "data": {
      "image/png": "[encoded data removed]",
      "text/plain": [
       "<Figure size 432x288 with 1 Axes>"
      ]
     },
     "metadata": {
      "needs_background": "light"
     },
     "output_type": "display_data"
    }
   ],
   "source": [
    "#Brigham\n",
    "fig,ax = plt.subplots()\n",
    "#complete_predictions = all_brigham.sample(frac=1).reset_index(drop=True)\n",
    "df_for_plotting = mls_detected.sample(frac=0.25).reset_index(drop=True)\n",
    "ax.plot(df_for_plotting['model_midline_shift'],'rx',label='Model Estimate',markersize=5)\n",
    "ax.plot(df_for_plotting['MLS_mm'],'go',alpha=0.3,label='Ground Truth',markersize=8)\n",
    "plt.title(\"Rule-Based System: Brigham and Women's Hospital\")\n",
    "plt.legend(loc='upper right')\n",
    "plt.ylim(-1,25)\n",
    "plt.ylabel('Midline Shift')\n",
    "plt.xlabel('Report Index')\n",
    "#plt.savefig('brigham_rbs.png')"
   ]
  },
  {
   "cell_type": "code",
   "execution_count": 7,
   "metadata": {},
   "outputs": [
    {
     "data": {
      "text/plain": [
       "Index(['Age', 'EMPI', 'MLS_mm', 'Report_ID', 'Report_Text',\n",
       "       'Report_Text_clean', 'Sex', 'Unnamed: 0', 'ecass_v2', 'edema_report',\n",
       "       'edema_report_reasons___4', 'edema_severity_report', 'hem_conv_v2',\n",
       "       'ivh_v2', 'model_midline_shift', 'no_mls', 'now_measuring', 'ptid',\n",
       "       'report_description', 'rules_satisfied', 'shift_1', 'shift_2',\n",
       "       'to_from'],\n",
       "      dtype='object')"
      ]
     },
     "execution_count": 7,
     "metadata": {},
     "output_type": "execute_result"
    }
   ],
   "source": [
    "mls_detected.columns"
   ]
  },
  {
   "cell_type": "markdown",
   "metadata": {},
   "source": [
    "## Bootstrap MLS for MGB Large"
   ]
  },
  {
   "cell_type": "code",
   "execution_count": null,
   "metadata": {},
   "outputs": [],
   "source": []
  },
  {
   "cell_type": "code",
   "execution_count": 6,
   "metadata": {},
   "outputs": [
    {
     "ename": "NameError",
     "evalue": "name 'mls_detected' is not defined",
     "output_type": "error",
     "traceback": [
      "\u001b[0;31m---------------------------------------------------------------------------\u001b[0m",
      "\u001b[0;31mNameError\u001b[0m                                 Traceback (most recent call last)",
      "\u001b[0;32m<ipython-input-6-18b712ae4909>\u001b[0m in \u001b[0;36m<module>\u001b[0;34m\u001b[0m\n\u001b[1;32m      9\u001b[0m \u001b[0;34m\u001b[0m\u001b[0m\n\u001b[1;32m     10\u001b[0m \u001b[0;32mfor\u001b[0m \u001b[0mi\u001b[0m \u001b[0;32min\u001b[0m \u001b[0mrange\u001b[0m\u001b[0;34m(\u001b[0m\u001b[0;36m100\u001b[0m\u001b[0;34m)\u001b[0m\u001b[0;34m:\u001b[0m\u001b[0;34m\u001b[0m\u001b[0;34m\u001b[0m\u001b[0m\n\u001b[0;32m---> 11\u001b[0;31m     \u001b[0mbootstrapped\u001b[0m\u001b[0;34m=\u001b[0m\u001b[0mmls_detected\u001b[0m\u001b[0;34m.\u001b[0m\u001b[0msample\u001b[0m\u001b[0;34m(\u001b[0m\u001b[0mn\u001b[0m\u001b[0;34m=\u001b[0m\u001b[0;36m100\u001b[0m\u001b[0;34m,\u001b[0m \u001b[0mreplace\u001b[0m\u001b[0;34m=\u001b[0m\u001b[0;32mFalse\u001b[0m\u001b[0;34m)\u001b[0m\u001b[0;34m\u001b[0m\u001b[0;34m\u001b[0m\u001b[0m\n\u001b[0m\u001b[1;32m     12\u001b[0m     \u001b[0mmae\u001b[0m\u001b[0;34m,\u001b[0m\u001b[0maccuracy\u001b[0m\u001b[0;34m,\u001b[0m\u001b[0msensitivity\u001b[0m\u001b[0;34m,\u001b[0m\u001b[0mspecificity\u001b[0m\u001b[0;34m,\u001b[0m\u001b[0mppv\u001b[0m\u001b[0;34m,\u001b[0m\u001b[0mnpv\u001b[0m\u001b[0;34m=\u001b[0m\u001b[0mcompute_MLS_stats\u001b[0m\u001b[0;34m(\u001b[0m\u001b[0mbootstrapped\u001b[0m\u001b[0;34m)\u001b[0m\u001b[0;34m\u001b[0m\u001b[0;34m\u001b[0m\u001b[0m\n\u001b[1;32m     13\u001b[0m \u001b[0;34m\u001b[0m\u001b[0m\n",
      "\u001b[0;31mNameError\u001b[0m: name 'mls_detected' is not defined"
     ]
    }
   ],
   "source": [
    "np.random.seed(100)\n",
    "bmc_mae=[]\n",
    "bmc_accuracies=[]\n",
    "bmc_sensitivities=[]\n",
    "bmc_specificities=[]\n",
    "bmc_ppvs=[]\n",
    "bmc_npvs=[]\n",
    "\n",
    "\n",
    "for i in range(100):\n",
    "    bootstrapped=mls_detected.sample(n=100, replace=False)\n",
    "    mae,accuracy,sensitivity,specificity,ppv,npv=compute_MLS_stats(bootstrapped)\n",
    "    \n",
    "    bmc_mae.append(mae)\n",
    "    bmc_accuracies.append(accuracy)\n",
    "    bmc_sensitivities.append(sensitivity)\n",
    "    bmc_specificities.append(specificity)\n",
    "    bmc_ppvs.append(ppv)\n",
    "    bmc_npvs.append(npv)"
   ]
  },
  {
   "cell_type": "code",
   "execution_count": null,
   "metadata": {},
   "outputs": [],
   "source": [
    "import scipy.stats as st\n",
    "ci95_mae=st.t.interval(alpha=0.95, df=len(bmc_mae)-1, loc=np.mean(bmc_mae), scale=st.sem(bmc_mae))\n",
    "ci95_sen=st.t.interval(alpha=0.95, df=len(bmc_sensitivities)-1, loc=np.mean(bmc_sensitivities), scale=st.sem(bmc_sensitivities))\n",
    "ci95_spec=st.t.interval(alpha=0.95, df=len(bmc_specificities)-1, loc=np.mean(bmc_specificities), scale=st.sem(bmc_specificities))\n",
    "ci95_acc=st.t.interval(alpha=0.95, df=len(bmc_accuracies)-1, loc=np.mean(bmc_accuracies), scale=st.sem(bmc_accuracies))\n",
    "ci95_ppv=st.t.interval(alpha=0.95, df=len(bmc_ppvs)-1, loc=np.mean(bmc_ppvs), scale=st.sem(bmc_ppvs))\n",
    "\n",
    "mean_mae=np.mean(bmc_mae)\n",
    "mean_sen=np.mean(bmc_sensitivities)\n",
    "mean_spec=np.mean(bmc_specificities)\n",
    "mean_acc=np.mean(bmc_accuracies)\n",
    "mean_ppv=np.mean(bmc_ppvs)\n",
    "\n",
    "print('MAE, mean:{}, CI {}'.format(mean_mae,ci95_mae))\n",
    "print('Sensitivity, mean: {}, CI: {}'.format(mean_sen,ci95_sen))\n",
    "print('Specificity, mean: {}, CI: {}'.format(mean_sen,ci95_spec))\n",
    "print('Accuracy, mean: {}, CI: {}'.format(mean_spec,ci95_acc))\n",
    "print('Precision, mean: {}, CI: {}'.format(mean_ppv,ci95_ppv))"
   ]
  },
  {
   "cell_type": "markdown",
   "metadata": {},
   "source": [
    "## I.III Now demonstration of the compute_MLS_stats() function:"
   ]
  },
  {
   "cell_type": "code",
   "execution_count": 4,
   "metadata": {},
   "outputs": [],
   "source": [
    "def compute_MLS_stats(df,col_name='model_midline_shift'):\n",
    "    \"\"\"Computes overall accuracy, mean absolute error,sensitivity, specificity, PPV, and NPV from full dataset of \n",
    "    predictions and ground truth MLS measurements. \n",
    "    \n",
    "    :param df - dataframe including a column of model predictions (\"model_midline_shift\") and ground\n",
    "    truths (\"MLS_mm\")\"\"\"\n",
    "    \n",
    "    \n",
    "    #oftentimes, MLS is left out as a NaN variable...\n",
    "    df['MLS_mm']=df['MLS_mm'].fillna(0)\n",
    "    \n",
    "    #compute absolute difference\n",
    "    df['abs_diff']=np.abs(df[col_name]-df['MLS_mm'])\n",
    "    \n",
    "    #mean absolute error\n",
    "    mae=np.sum(df['abs_diff'])/len(df)\n",
    "    \n",
    "    #overall_accuracy\n",
    "    accurate_hits = []\n",
    "    for i,row in df.iterrows():\n",
    "        if row['abs_diff']==0:\n",
    "            accurate_hits.append(1)\n",
    "        else:\n",
    "            accurate_hits.append(0)\n",
    "    accuracy=sum(accurate_hits)/len(accurate_hits)\n",
    "    \n",
    "    ##Sensitivity, Specificity, PPV, and NPV:\n",
    "    \n",
    "    #True positives\n",
    "    tp_df = df[np.logical_and(df['abs_diff']==0,df['MLS_mm']!=0)]\n",
    "\n",
    "    #True negatives\n",
    "    tn_df = df[np.logical_and(df['abs_diff']==0,df['MLS_mm']==0)]\n",
    "    \n",
    "    #False Negatives:\n",
    "    #constructing false positives and false negatives: start with your errors\n",
    "    errors = df[df['abs_diff']!=0]\n",
    "    fn_df = errors[np.logical_and(errors[col_name]==0,errors['MLS_mm']!=0)]\n",
    "    \n",
    "    #False positives: 2 ways: 1) Ground truth is zero and Model is nonzero 2) Ground truth is nonzero, Model is wrong nonzero\n",
    "    cond_1 = errors[np.logical_and(errors[col_name]!=0,errors['MLS_mm']==0)]\n",
    "    cond_2 = errors[np.logical_and(errors[col_name]!=0,errors['MLS_mm']!=0)]\n",
    "\n",
    "    fp_df = pd.concat([cond_1,cond_2],axis=0)\n",
    "\n",
    "\n",
    "    \n",
    "    ##COMPUTE NUMBER OF TRUE NEGATIVES, TRUE POSITIVES, AND FALSE NEGATIVES:\n",
    "    tp = len(tp_df)\n",
    "    tn = len(tn_df)\n",
    "    fn= len(fn_df)\n",
    "    fp = len(fp_df)\n",
    "    \n",
    "    sensitivity=tp/(tp+fn+0.000001) \n",
    "    specificity=tn/(tn+fp+0.000001)\n",
    "    ppv = tp/(tp+fp+0.00001)\n",
    "    npv = tn/(tn+fn+0.00001)\n",
    "    \n",
    "    return mae,accuracy,sensitivity,specificity,ppv,npv"
   ]
  },
  {
   "cell_type": "code",
   "execution_count": 16,
   "metadata": {},
   "outputs": [
    {
     "data": {
      "text/plain": [
       "(0.17000907441016336,\n",
       " 0.9677858439201452,\n",
       " 0.9485815586018057,\n",
       " 0.9743902433082986,\n",
       " 0.927209689303125,\n",
       " 0.9821757776141624)"
      ]
     },
     "execution_count": 16,
     "metadata": {},
     "output_type": "execute_result"
    }
   ],
   "source": [
    "#MAE, accuracy, sensitivity, specificity, PPV, and NPV (in that order, as in the above definition)\n",
    "compute_MLS_stats(mls_detected)"
   ]
  },
  {
   "cell_type": "code",
   "execution_count": null,
   "metadata": {},
   "outputs": [],
   "source": []
  },
  {
   "cell_type": "code",
   "execution_count": 34,
   "metadata": {},
   "outputs": [
    {
     "name": "stderr",
     "output_type": "stream",
     "text": [
      "/opt/anaconda3/lib/python3.7/site-packages/ipykernel_launcher.py:128: SettingWithCopyWarning: \n",
      "A value is trying to be set on a copy of a slice from a DataFrame.\n",
      "Try using .loc[row_indexer,col_indexer] = value instead\n",
      "\n",
      "See the caveats in the documentation: http://pandas.pydata.org/pandas-docs/stable/user_guide/indexing.html#returning-a-view-versus-a-copy\n",
      "/opt/anaconda3/lib/python3.7/site-packages/ipykernel_launcher.py:389: SettingWithCopyWarning: \n",
      "A value is trying to be set on a copy of a slice from a DataFrame.\n",
      "Try using .loc[row_indexer,col_indexer] = value instead\n",
      "\n",
      "See the caveats in the documentation: http://pandas.pydata.org/pandas-docs/stable/user_guide/indexing.html#returning-a-view-versus-a-copy\n",
      "/opt/anaconda3/lib/python3.7/site-packages/ipykernel_launcher.py:438: SettingWithCopyWarning: \n",
      "A value is trying to be set on a copy of a slice from a DataFrame.\n",
      "Try using .loc[row_indexer,col_indexer] = value instead\n",
      "\n",
      "See the caveats in the documentation: http://pandas.pydata.org/pandas-docs/stable/user_guide/indexing.html#returning-a-view-versus-a-copy\n",
      "/opt/anaconda3/lib/python3.7/site-packages/ipykernel_launcher.py:476: SettingWithCopyWarning: \n",
      "A value is trying to be set on a copy of a slice from a DataFrame.\n",
      "Try using .loc[row_indexer,col_indexer] = value instead\n",
      "\n",
      "See the caveats in the documentation: http://pandas.pydata.org/pandas-docs/stable/user_guide/indexing.html#returning-a-view-versus-a-copy\n",
      "/opt/anaconda3/lib/python3.7/site-packages/ipykernel_launcher.py:72: FutureWarning: Sorting because non-concatenation axis is not aligned. A future version\n",
      "of pandas will change to not sort by default.\n",
      "\n",
      "To accept the future behavior, pass 'sort=False'.\n",
      "\n",
      "To retain the current behavior and silence the warning, pass 'sort=True'.\n",
      "\n"
     ]
    }
   ],
   "source": [
    "BMC=pd.read_csv('OCTOBER8_377_BMC_ACUTE_STROKE_CONFIRMED.csv')\n",
    "BMC=BMC.rename(columns={'midline_shift_mm':'MLS_mm'})\n",
    "BMC=BMC[BMC['MLS_mm']!=999]\n",
    "###this is for BMC:\n",
    "BMC_mls_detected=detect_MLS(BMC)"
   ]
  },
  {
   "cell_type": "code",
   "execution_count": 42,
   "metadata": {},
   "outputs": [],
   "source": [
    "def plot_rbs_scatter(df):\n",
    "    zero_df=df[df['model_midline_shift']==0].sample(frac=0.25).fillna(0)\n",
    "    nonzero_df=df[df['model_midline_shift']!=0].sample(frac=1)\n",
    "    \n",
    "    #put dataframe back together\n",
    "    df_for_plotting=pd.concat([zero_df,nonzero_df])\n",
    "    df_for_plotting=df_for_plotting.sample(frac=1, axis=1).sample(frac=1).reset_index(drop=True)\n",
    "    \n",
    "    fig,ax=plt.subplots()\n",
    "    \n",
    "    ax.plot(df_for_plotting['model_midline_shift'],'rx',label='Model Estimate',markersize=5)\n",
    "    ax.plot(df_for_plotting['MLS_mm'],'co',alpha=0.3,label='Ground Truth',markersize=8)\n",
    "    plt.title(\"Midline Shift: BMC\")\n",
    "    plt.legend(loc='upper right')\n",
    "    plt.ylim(-1,25)\n",
    "    plt.ylabel('Midline Shift')\n",
    "    plt.xlabel('Report Index')\n",
    "    \n",
    "    \n",
    "    "
   ]
  },
  {
   "cell_type": "code",
   "execution_count": 43,
   "metadata": {},
   "outputs": [
    {
     "data": {
      "image/png": "[encoded data removed]",
      "text/plain": [
       "<Figure size 432x288 with 1 Axes>"
      ]
     },
     "metadata": {
      "needs_background": "light"
     },
     "output_type": "display_data"
    }
   ],
   "source": [
    "plot_rbs_scatter(BMC_mls_detected)"
   ]
  },
  {
   "cell_type": "markdown",
   "metadata": {},
   "source": [
    "### Bootstrap BMC MLS Values:"
   ]
  },
  {
   "cell_type": "code",
   "execution_count": 10,
   "metadata": {},
   "outputs": [],
   "source": [
    "np.random.seed(100)\n",
    "bmc_mae=[]\n",
    "bmc_accuracies=[]\n",
    "bmc_sensitivities=[]\n",
    "bmc_specificities=[]\n",
    "bmc_ppvs=[]\n",
    "bmc_npvs=[]\n",
    "\n",
    "\n",
    "for i in range(100):\n",
    "    bootstrapped=BMC_mls_detected.sample(n=100, replace=False)\n",
    "    mae,accuracy,sensitivity,specificity,ppv,npv=compute_MLS_stats(bootstrapped)\n",
    "    \n",
    "    bmc_mae.append(mae)\n",
    "    bmc_accuracies.append(accuracy)\n",
    "    bmc_sensitivities.append(sensitivity)\n",
    "    bmc_specificities.append(specificity)\n",
    "    bmc_ppvs.append(ppv)\n",
    "    bmc_npvs.append(npv)"
   ]
  },
  {
   "cell_type": "code",
   "execution_count": 30,
   "metadata": {},
   "outputs": [
    {
     "data": {
      "text/plain": [
       "(0.14600550964187328,\n",
       " 0.9696969696969697,\n",
       " 0.9523809433106577,\n",
       " 0.9767441822606815,\n",
       " 0.9433961374154587,\n",
       " 0.9805447089282215)"
      ]
     },
     "execution_count": 30,
     "metadata": {},
     "output_type": "execute_result"
    }
   ],
   "source": [
    "compute_MLS_stats(BMC_mls_detected)"
   ]
  },
  {
   "cell_type": "markdown",
   "metadata": {},
   "source": [
    "### Bootstrap:"
   ]
  },
  {
   "cell_type": "code",
   "execution_count": 14,
   "metadata": {},
   "outputs": [
    {
     "name": "stdout",
     "output_type": "stream",
     "text": [
      "MAE, mean:0.1416, CI (0.12461585966040906, 0.15858414033959095)\n",
      "Sensitivity, mean: 0.9552810089423899, CI: (0.9484340064712607, 0.962128011413519)\n",
      "Specificity, mean: 0.9552810089423899, CI: (0.973971588717241, 0.9801008149467308)\n",
      "Accuracy, mean: 0.9770362018319859, CI: (0.9677276172016289, 0.9738723827983711)\n",
      "Precision, mean: 0.9467420217745414, CI: (0.9399755408219859, 0.9535085027270969)\n"
     ]
    }
   ],
   "source": [
    "import scipy.stats as st\n",
    "ci95_mae=st.t.interval(alpha=0.95, df=len(bmc_mae)-1, loc=np.mean(bmc_mae), scale=st.sem(bmc_mae))\n",
    "ci95_sen=st.t.interval(alpha=0.95, df=len(bmc_sensitivities)-1, loc=np.mean(bmc_sensitivities), scale=st.sem(bmc_sensitivities))\n",
    "ci95_spec=st.t.interval(alpha=0.95, df=len(bmc_specificities)-1, loc=np.mean(bmc_specificities), scale=st.sem(bmc_specificities))\n",
    "ci95_acc=st.t.interval(alpha=0.95, df=len(bmc_accuracies)-1, loc=np.mean(bmc_accuracies), scale=st.sem(bmc_accuracies))\n",
    "ci95_ppv=st.t.interval(alpha=0.95, df=len(bmc_ppvs)-1, loc=np.mean(bmc_ppvs), scale=st.sem(bmc_ppvs))\n",
    "\n",
    "mean_mae=np.mean(bmc_mae)\n",
    "mean_sen=np.mean(bmc_sensitivities)\n",
    "mean_spec=np.mean(bmc_specificities)\n",
    "mean_acc=np.mean(bmc_accuracies)\n",
    "mean_ppv=np.mean(bmc_ppvs)\n",
    "\n",
    "print('MAE, mean:{}, CI {}'.format(mean_mae,ci95_mae))\n",
    "print('Sensitivity, mean: {}, CI: {}'.format(mean_sen,ci95_sen))\n",
    "print('Specificity, mean: {}, CI: {}'.format(mean_sen,ci95_spec))\n",
    "print('Accuracy, mean: {}, CI: {}'.format(mean_spec,ci95_acc))\n",
    "print('Precision, mean: {}, CI: {}'.format(mean_ppv,ci95_ppv))"
   ]
  },
  {
   "cell_type": "code",
   "execution_count": 27,
   "metadata": {},
   "outputs": [],
   "source": [
    "BMC_mls_detected['abs_diff']=np.abs(BMC_mls_detected['model_midline_shift']-BMC_mls_detected['MLS_mm'])"
   ]
  },
  {
   "cell_type": "code",
   "execution_count": 28,
   "metadata": {},
   "outputs": [
    {
     "data": {
      "text/plain": [
       "0.0      352\n",
       "999.0     14\n",
       "1.0        2\n",
       "5.0        2\n",
       "9.0        2\n",
       "7.0        2\n",
       "2.0        1\n",
       "4.0        1\n",
       "3.0        1\n",
       "Name: abs_diff, dtype: int64"
      ]
     },
     "execution_count": 28,
     "metadata": {},
     "output_type": "execute_result"
    }
   ],
   "source": [
    "BMC_mls_detected['abs_diff'].value_counts()"
   ]
  },
  {
   "cell_type": "code",
   "execution_count": 9,
   "metadata": {},
   "outputs": [
    {
     "data": {
      "text/plain": [
       "Index(['Unnamed: 0', 'Location_Report_ID', 'Report_Number',\n",
       "       'Report_Description', 'Report_Date_Time', 'Report_Text', 'acute',\n",
       "       'Acute Location Rev1', 'Need Review?', 'Unprocessed_Report_Text',\n",
       "       'EMPI', 'edema_report', 'mls_mm_v2', 'hem_conv_v2', 'ecass_v2',\n",
       "       'ivh_v2', 'Age', 'Sex', 'Gender'],\n",
       "      dtype='object')"
      ]
     },
     "execution_count": 9,
     "metadata": {},
     "output_type": "execute_result"
    }
   ],
   "source": [
    "batch1.columns"
   ]
  },
  {
   "cell_type": "code",
   "execution_count": 10,
   "metadata": {},
   "outputs": [
    {
     "data": {
      "text/plain": [
       "Index(['Unnamed: 0', 'Location_Report_ID', 'Report_Number',\n",
       "       'Report_Description', 'Report_Date_Time', 'Report_Text', 'acute',\n",
       "       'Acute Location Rev1', 'Need Review?', 'Unprocessed_Report_Text',\n",
       "       'EMPI', 'edema_report', 'mls_mm_v2', 'hem_conv_v2', 'ecass_v2',\n",
       "       'ivh_v2', 'Age', 'Sex', 'Gender'],\n",
       "      dtype='object')"
      ]
     },
     "execution_count": 10,
     "metadata": {},
     "output_type": "execute_result"
    }
   ],
   "source": [
    "batch2.columns"
   ]
  },
  {
   "cell_type": "markdown",
   "metadata": {},
   "source": [
    "#### Lastly: run MLS RBS on the non-Large stroke data"
   ]
  },
  {
   "cell_type": "code",
   "execution_count": 9,
   "metadata": {},
   "outputs": [],
   "source": [
    "batch1=pd.read_csv('OCTOBER15_BWH_NONLARGE_BATCH1.csv')\n",
    "batch2=pd.read_csv('OCTOBER15_BWH_NONLARGE_BATCH1.csv')"
   ]
  },
  {
   "cell_type": "code",
   "execution_count": 21,
   "metadata": {},
   "outputs": [],
   "source": [
    "batch1=batch1[['Unprocessed_Report_Text','mls_mm_v2','Report_Number']]\n",
    "batch2=batch2[['Unprocessed_Report_Text','mls_mm_v2','Report_Number']]\n",
    "together=pd.concat([batch1,batch2])\n",
    "together=together.rename(columns={'Unprocessed_Report_Text':'Report_Text','mls_mm_v2':'MLS_mm','Report_Number':'Report_ID'})"
   ]
  },
  {
   "cell_type": "code",
   "execution_count": 22,
   "metadata": {},
   "outputs": [
    {
     "name": "stderr",
     "output_type": "stream",
     "text": [
      "/opt/anaconda3/lib/python3.7/site-packages/ipykernel_launcher.py:128: SettingWithCopyWarning: \n",
      "A value is trying to be set on a copy of a slice from a DataFrame.\n",
      "Try using .loc[row_indexer,col_indexer] = value instead\n",
      "\n",
      "See the caveats in the documentation: http://pandas.pydata.org/pandas-docs/stable/user_guide/indexing.html#returning-a-view-versus-a-copy\n",
      "/opt/anaconda3/lib/python3.7/site-packages/ipykernel_launcher.py:438: SettingWithCopyWarning: \n",
      "A value is trying to be set on a copy of a slice from a DataFrame.\n",
      "Try using .loc[row_indexer,col_indexer] = value instead\n",
      "\n",
      "See the caveats in the documentation: http://pandas.pydata.org/pandas-docs/stable/user_guide/indexing.html#returning-a-view-versus-a-copy\n",
      "/opt/anaconda3/lib/python3.7/site-packages/ipykernel_launcher.py:476: SettingWithCopyWarning: \n",
      "A value is trying to be set on a copy of a slice from a DataFrame.\n",
      "Try using .loc[row_indexer,col_indexer] = value instead\n",
      "\n",
      "See the caveats in the documentation: http://pandas.pydata.org/pandas-docs/stable/user_guide/indexing.html#returning-a-view-versus-a-copy\n",
      "/opt/anaconda3/lib/python3.7/site-packages/ipykernel_launcher.py:72: FutureWarning: Sorting because non-concatenation axis is not aligned. A future version\n",
      "of pandas will change to not sort by default.\n",
      "\n",
      "To accept the future behavior, pass 'sort=False'.\n",
      "\n",
      "To retain the current behavior and silence the warning, pass 'sort=True'.\n",
      "\n"
     ]
    }
   ],
   "source": [
    "mls_detected=detect_MLS(together)"
   ]
  },
  {
   "cell_type": "code",
   "execution_count": 23,
   "metadata": {},
   "outputs": [
    {
     "data": {
      "text/plain": [
       "(0.03278688524590164,\n",
       " 0.9890710382513661,\n",
       " 0.9499999525000024,\n",
       " 0.9938650245775152,\n",
       " 0.9499995250002375,\n",
       " 0.9938649697015356)"
      ]
     },
     "execution_count": 23,
     "metadata": {},
     "output_type": "execute_result"
    }
   ],
   "source": [
    "compute_MLS_stats(mls_detected)"
   ]
  },
  {
   "cell_type": "code",
   "execution_count": 24,
   "metadata": {},
   "outputs": [],
   "source": [
    "np.random.seed(100)\n",
    "NL_mae=[]\n",
    "NL_accuracies=[]\n",
    "NL_sensitivities=[]\n",
    "NL_specificities=[]\n",
    "NL_ppvs=[]\n",
    "NL_npvs=[]\n",
    "\n",
    "\n",
    "for i in range(100):\n",
    "    bootstrapped=mls_detected.sample(n=100, replace=False)\n",
    "    mae,accuracy,sensitivity,specificity,ppv,npv=compute_MLS_stats(bootstrapped)\n",
    "    \n",
    "    NL_mae.append(mae)\n",
    "    NL_accuracies.append(accuracy)\n",
    "    NL_sensitivities.append(sensitivity)\n",
    "    NL_specificities.append(specificity)\n",
    "    NL_ppvs.append(ppv)\n",
    "    NL_npvs.append(npv)"
   ]
  },
  {
   "cell_type": "code",
   "execution_count": 25,
   "metadata": {},
   "outputs": [
    {
     "name": "stdout",
     "output_type": "stream",
     "text": [
      "MAE, mean:0.03440000000000001, CI (0.029991751524879103, 0.03880824847512091)\n",
      "Sensitivity, mean: 0.9484995319523745, CI: (0.9390797809195204, 0.9579192829852285)\n",
      "Specificity, mean: 0.9484995319523745, CI: (0.9923679898021192, 0.9945836913588002)\n",
      "Accuracy, mean: 0.9934758405804597, CI: (0.9871076164996435, 0.9898923835003564)\n",
      "Precision, mean: 0.947506018665008, CI: (0.9380782851498067, 0.9569337521802094)\n"
     ]
    }
   ],
   "source": [
    "import scipy.stats as st\n",
    "ci95_mae=st.t.interval(alpha=0.95, df=len(NL_mae)-1, loc=np.mean(NL_mae), scale=st.sem(NL_mae))\n",
    "ci95_sen=st.t.interval(alpha=0.95, df=len(NL_sensitivities)-1, loc=np.mean(NL_sensitivities), scale=st.sem(NL_sensitivities))\n",
    "ci95_spec=st.t.interval(alpha=0.95, df=len(NL_specificities)-1, loc=np.mean(NL_specificities), scale=st.sem(NL_specificities))\n",
    "ci95_acc=st.t.interval(alpha=0.95, df=len(NL_accuracies)-1, loc=np.mean(NL_accuracies), scale=st.sem(NL_accuracies))\n",
    "ci95_ppv=st.t.interval(alpha=0.95, df=len(NL_ppvs)-1, loc=np.mean(NL_ppvs), scale=st.sem(NL_ppvs))\n",
    "\n",
    "mean_mae=np.mean(NL_mae)\n",
    "mean_sen=np.mean(NL_sensitivities)\n",
    "mean_spec=np.mean(NL_specificities)\n",
    "mean_acc=np.mean(NL_accuracies)\n",
    "mean_ppv=np.mean(NL_ppvs)\n",
    "\n",
    "print('MAE, mean:{}, CI {}'.format(mean_mae,ci95_mae))\n",
    "print('Sensitivity, mean: {}, CI: {}'.format(mean_sen,ci95_sen))\n",
    "print('Specificity, mean: {}, CI: {}'.format(mean_sen,ci95_spec))\n",
    "print('Accuracy, mean: {}, CI: {}'.format(mean_spec,ci95_acc))\n",
    "print('Precision, mean: {}, CI: {}'.format(mean_ppv,ci95_ppv))"
   ]
  },
  {
   "cell_type": "markdown",
   "metadata": {},
   "source": [
    "# Part II: RBS for IVH\n",
    "\n",
    "Hi Ben. I hope that the above worked for you. What follows below is my rule-based system for IVH. The preprocessing clean_and_featurize() function should be similar, but time time I don't do additional preprocessing to remove numbers! Instead, I preprocess to remove likely confounding words, a list of which may be found in one of the cells below. \n",
    "\n",
    "It is very important that your IVH column be in a format where 1=IVH and 0=no IVH. I've noticed that Charlene sometimes has additional measures for \"scant IVH, moderate IVH, etc\". This one "
   ]
  },
  {
   "cell_type": "code",
   "execution_count": 8,
   "metadata": {},
   "outputs": [],
   "source": [
    "df = pd.read_csv('LargeMGB_IVH_for_RBS.csv')\n",
    "df.rename(columns={'report_text': 'Report_Text', 'mls_mm_v2': 'MLS_mm','Report_Number':'Report_ID','ecass_v2':'ECASS','edema_severity_report':'edema_severity'}, inplace=True)\n",
    "wordgroups = list(pd.read_excel('wordgroups.xlsx')['Word Groupings'])#now clean and featurize\n",
    "df_overall = clean_and_featurize(df,wordgroups)\n"
   ]
  },
  {
   "cell_type": "code",
   "execution_count": 9,
   "metadata": {},
   "outputs": [],
   "source": [
    "confounders=['masseffect','mass-effect','effacement','compression','periventricular',\n",
    "            'subarachnoidhemorrhage','ventriculostomy','intraparenchymalhemorrhage',\n",
    "             ',','subdural','no significant','nonhemorrhag','intracerebralhemorrhage','petechialhemorrhage',\n",
    "            'or intraventricular','adjacent to','inferior to','superior to','infarct','conversion','normal',\n",
    "            'ventriculoperitoneal']\n",
    "\n",
    "transformed_reports=[]\n",
    "\n",
    "for _,row in df_overall.iterrows():\n",
    "    \n",
    "    #get the report\n",
    "    original_report=row['Report_Text_clean']\n",
    "    \n",
    "    \n",
    "    \n",
    "    #test out each of the confounders\n",
    "    for i in confounders:\n",
    "        original_report=original_report.replace(i,'.')\n",
    "\n",
    "            \n",
    "    transformed_reports.append(original_report)\n",
    "    \n",
    "df_overall['periods_add']=transformed_reports\n",
    "\n",
    "#now remove the term 'subarachnoid' as well:\n",
    "subarachnoid_removed=[]\n",
    "\n",
    "for row in transformed_reports:\n",
    "    new_row=row.replace('subarachnoid','____')\n",
    "    subarachnoid_removed.append(new_row)\n",
    "    \n",
    "df_overall['periods_add']=subarachnoid_removed"
   ]
  },
  {
   "cell_type": "markdown",
   "metadata": {},
   "source": [
    "## II.I: Define your Rules"
   ]
  },
  {
   "cell_type": "code",
   "execution_count": 10,
   "metadata": {},
   "outputs": [],
   "source": [
    "ivh_direct_mention=re.compile(r'intraventricularh|interventricular h')\n",
    "in_ventricles=re.compile(r'blood.+in.+?ventri|hemorr.+in.+?ventri|hemorr.+?ventri|ventri.+?blood|ventri.+?hemorr|ventri.+?extension')\n",
    "in_horn=re.compile(r'blood.+in.+?horn|hemorr.+in.+?horn|horn.+?blood|horn.+?hemorr')\n",
    "rupture=re.compile(r'rupture.+?vent')\n",
    "\n",
    "#negative rules:\n",
    "#antimention=re.compile(r'no.+extra-axial hem|no.+extraaxial hem|no.+?intraventricularhemorrhage|no.+?interventricular hemorrhage|no.+?intra ventricular hemorrhage|no.+blood.+ventri|no.+ventric.+?extens')\n",
    "antimention=re.compile(r'no.+extra-axial hem|no.+extraaxial hem|no.+?intraventricularhemorrhage|no.+?interventricular hemorrhage|no.+?intra ventricular hemorrhage|no.+ventric.+?extens|without.+?intraventricularhemorrhage')"
   ]
  },
  {
   "cell_type": "markdown",
   "metadata": {},
   "source": [
    "### Now apply the rules above"
   ]
  },
  {
   "cell_type": "code",
   "execution_count": 23,
   "metadata": {},
   "outputs": [],
   "source": [
    "ground_truth=[]\n",
    "prediction=[]\n",
    "\n",
    "for i,row in df_overall.iterrows():\n",
    "    doc=[]\n",
    "    ground_truth.append(row['IVH'])\n",
    "    for sentence in row['periods_add'].split('.'):\n",
    "        if len(in_ventricles.findall(sentence))>0:\n",
    "            doc.append(1)\n",
    "        \n",
    "        elif len(ivh_direct_mention.findall(sentence))>0:   \n",
    "            doc.append(1)\n",
    "        elif len(in_horn.findall(sentence))>0:   \n",
    "            doc.append(1)\n",
    "            \n",
    "        elif len(rupture.findall(sentence))>0:   \n",
    "            doc.append(1)\n",
    "            \n",
    "        else:\n",
    "            pass\n",
    "            \n",
    "    for sentence in row['periods_add'].split('.'):\n",
    "        if len(antimention.findall(sentence))>0:\n",
    "            doc=[]\n",
    "            \n",
    "        \n",
    "    if len(doc)>0:\n",
    "        prediction.append(1)\n",
    "    else:\n",
    "        prediction.append(0)\n",
    "        "
   ]
  },
  {
   "cell_type": "markdown",
   "metadata": {},
   "source": [
    "## An integrated RBS for IVH:"
   ]
  },
  {
   "cell_type": "code",
   "execution_count": 11,
   "metadata": {},
   "outputs": [],
   "source": [
    "def integrated_ivh(df_overall,text_column='Report_Text_clean'):\n",
    "    \n",
    "    ivh_direct_mention=re.compile(r'intraventricularh|interventricular h')\n",
    "    in_ventricles=re.compile(r'blood.+in.+?ventri|hemorr.+in.+?ventri|hemorr.+?ventri|ventri.+?blood|ventri.+?hemorr|ventri.+?extension')\n",
    "    in_horn=re.compile(r'blood.+in.+?horn|hemorr.+in.+?horn|horn.+?blood|horn.+?hemorr')\n",
    "    rupture=re.compile(r'rupture.+?vent')\n",
    "\n",
    "    #negative rules:\n",
    "    #antimention=re.compile(r'no.+extra-axial hem|no.+extraaxial hem|no.+?intraventricularhemorrhage|no.+?interventricular hemorrhage|no.+?intra ventricular hemorrhage|no.+blood.+ventri|no.+ventric.+?extens')\n",
    "    antimention=re.compile(r'no.+extra-axial hem|no.+extraaxial hem|no.+?intraventricularhemorrhage|no.+?interventricular hemorrhage|no.+?intra ventricular hemorrhage|no.+ventric.+?extens|without.+?intraventricularhemorrhage')\n",
    "\n",
    "    confounders=['masseffect','mass-effect','effacement','compression','periventricular',\n",
    "                'subarachnoidhemorrhage','ventriculostomy','intraparenchymalhemorrhage',\n",
    "                 ',','subdural','no significant','nonhemorrhag','intracerebralhemorrhage','petechialhemorrhage',\n",
    "                'or intraventricular','adjacent to','inferior to','superior to','infarct','conversion','normal',\n",
    "                'ventriculoperitoneal']\n",
    "\n",
    "    transformed_reports=[]\n",
    "\n",
    "    for _,row in df_overall.iterrows():\n",
    "\n",
    "        #get the report\n",
    "        original_report=row[text_column]\n",
    "\n",
    "\n",
    "\n",
    "        #test out each of the confounders\n",
    "        for i in confounders:\n",
    "            original_report=original_report.replace(i,'.')\n",
    "\n",
    "\n",
    "        transformed_reports.append(original_report)\n",
    "\n",
    "    df_overall['periods_add']=transformed_reports\n",
    "\n",
    "    #now remove the term 'subarachnoid' as well:\n",
    "    subarachnoid_removed=[]\n",
    "\n",
    "    for row in transformed_reports:\n",
    "        new_row=row.replace('subarachnoid','____')\n",
    "        subarachnoid_removed.append(new_row)\n",
    "\n",
    "    df_overall['periods_add']=subarachnoid_removed\n",
    "\n",
    "\n",
    "    ground_truth=[]\n",
    "    prediction=[]\n",
    "\n",
    "    for i,row in df_overall.iterrows():\n",
    "        doc=[]\n",
    "        ground_truth.append(row['IVH'])\n",
    "        for sentence in row['periods_add'].split('.'):\n",
    "            if len(in_ventricles.findall(sentence))>0:\n",
    "                doc.append(1)\n",
    "\n",
    "            elif len(ivh_direct_mention.findall(sentence))>0:   \n",
    "                doc.append(1)\n",
    "            elif len(in_horn.findall(sentence))>0:   \n",
    "                doc.append(1)\n",
    "\n",
    "            elif len(rupture.findall(sentence))>0:   \n",
    "                doc.append(1)\n",
    "\n",
    "            else:\n",
    "                pass\n",
    "\n",
    "        for sentence in row['periods_add'].split('.'):\n",
    "            if len(antimention.findall(sentence))>0:\n",
    "                doc=[]\n",
    "\n",
    "\n",
    "        if len(doc)>0:\n",
    "            prediction.append(1)\n",
    "        else:\n",
    "            prediction.append(0)\n",
    "        \n",
    "    return ground_truth,prediction"
   ]
  },
  {
   "cell_type": "code",
   "execution_count": 12,
   "metadata": {},
   "outputs": [
    {
     "name": "stdout",
     "output_type": "stream",
     "text": [
      "1.024226188659668\n",
      "sensitivity 0.9918815663801337\n",
      "precision 0.8521739130434782\n"
     ]
    }
   ],
   "source": [
    "t0=time.time()\n",
    "\n",
    "g,p=integrated_ivh(df_overall)\n",
    "t1=time.time()\n",
    "total=t1-t0\n",
    "print(total)\n",
    "\n",
    "tn, fp, fn, tp = confusion_matrix(g,p).ravel()\n",
    "sensitivity=tn/(tn+fp)\n",
    "precision=tp/(tp+fp)\n",
    "print('sensitivity {}'.format(sensitivity))\n",
    "print('precision {}'.format(precision))"
   ]
  },
  {
   "cell_type": "markdown",
   "metadata": {},
   "source": [
    "### Assess the success of your rules above:"
   ]
  },
  {
   "cell_type": "code",
   "execution_count": 24,
   "metadata": {},
   "outputs": [
    {
     "name": "stdout",
     "output_type": "stream",
     "text": [
      "sensitivity 0.9918815663801337\n",
      "precision 0.8521739130434782\n"
     ]
    }
   ],
   "source": [
    "df_overall['ground_truth']=ground_truth\n",
    "df_overall['prediction']=prediction\n",
    "tn, fp, fn, tp = confusion_matrix(ground_truth, prediction).ravel()\n",
    "sensitivity=tn/(tn+fp)\n",
    "precision=tp/(tp+fp)\n",
    "print('sensitivity {}'.format(sensitivity))\n",
    "print('precision {}'.format(precision))"
   ]
  },
  {
   "cell_type": "markdown",
   "metadata": {},
   "source": [
    "### Bootstrap IVH stats"
   ]
  },
  {
   "cell_type": "code",
   "execution_count": 28,
   "metadata": {},
   "outputs": [
    {
     "data": {
      "text/plain": [
       "(2199, 16)"
      ]
     },
     "execution_count": 28,
     "metadata": {},
     "output_type": "execute_result"
    }
   ],
   "source": [
    "df_overall.shape"
   ]
  },
  {
   "cell_type": "code",
   "execution_count": 37,
   "metadata": {},
   "outputs": [],
   "source": [
    "np.random.seed(100)\n",
    "bmc_accuracies=[]\n",
    "bmc_sensitivities=[]\n",
    "bmc_specificities=[]\n",
    "bmc_ppvs=[]\n",
    "\n",
    "\n",
    "\n",
    "for i in range(100):\n",
    "    bootstrapped=df_overall.sample(n=200, replace=False)\n",
    "\n",
    "    ground=bootstrapped['ground_truth']\n",
    "    pred=bootstrapped['prediction']\n",
    "    tn, fp, fn, tp = confusion_matrix(ground, pred).ravel()\n",
    "    \n",
    "    \n",
    "    accuracy=(tn+tp)/(tn+tp+fn+fp)\n",
    "    sensitivity=tp/(tp+fn)\n",
    "    specificity=tn/(tn+fp)\n",
    "    ppv=tp/(tp+fp)\n",
    "    \n",
    "    \n",
    "    bmc_accuracies.append(accuracy)\n",
    "    bmc_sensitivities.append(sensitivity)\n",
    "    bmc_specificities.append(specificity)\n",
    "    bmc_ppvs.append(ppv)\n",
    "\n",
    "    \n",
    "import scipy.stats as st\n",
    "ci95_sen=st.t.interval(alpha=0.95, df=len(bmc_sensitivities)-1, loc=np.mean(bmc_sensitivities), scale=st.sem(bmc_sensitivities))\n",
    "ci95_spec=st.t.interval(alpha=0.95, df=len(bmc_specificities)-1, loc=np.mean(bmc_specificities), scale=st.sem(bmc_specificities))\n",
    "ci95_acc=st.t.interval(alpha=0.95, df=len(bmc_accuracies)-1, loc=np.mean(bmc_accuracies), scale=st.sem(bmc_accuracies))\n",
    "ci95_ppv=st.t.interval(alpha=0.95, df=len(bmc_ppvs)-1, loc=np.mean(bmc_ppvs), scale=st.sem(bmc_ppvs))\n",
    "\n",
    "\n",
    "mean_sen=np.mean(bmc_sensitivities)\n",
    "mean_spec=np.median(bmc_specificities)\n",
    "mean_acc=np.mean(bmc_accuracies)\n",
    "mean_ppv=np.mean(bmc_ppvs)\n",
    "\n",
    "print('MAE, mean:{}, CI {}'.format(mean_mae,ci95_mae))\n",
    "print('Sensitivity, mean: {}, CI: {}'.format(mean_sen,ci95_sen))\n",
    "print('Specificity, mean: {}, CI: {}'.format(mean_sen,ci95_spec))\n",
    "print('Accuracy, mean: {}, CI: {}'.format(mean_spec,ci95_acc))\n",
    "print('Precision, mean: {}, CI: {}'.format(mean_ppv,ci95_ppv))"
   ]
  },
  {
   "cell_type": "markdown",
   "metadata": {},
   "source": [
    "### Now do this for BMC:"
   ]
  },
  {
   "cell_type": "code",
   "execution_count": 40,
   "metadata": {},
   "outputs": [],
   "source": [
    "df = pd.read_csv('OCTOBER8_377_BMC_ACUTE_STROKE_CONFIRMED.csv')\n",
    "df.rename(columns={'ivh':'IVH','Report_Number':'Report_ID'}, inplace=True)\n",
    "wordgroups = list(pd.read_excel('wordgroups.xlsx')['Word Groupings'])#now clean and featurize\n",
    "df_overall = clean_and_featurize(df,wordgroups)\n",
    "df_overall=df_overall[np.logical_or(df_overall['IVH']==0,df_overall['IVH']==1)]"
   ]
  },
  {
   "cell_type": "code",
   "execution_count": 41,
   "metadata": {},
   "outputs": [],
   "source": [
    "confounders=['masseffect','mass-effect','effacement','compression','periventricular',\n",
    "            'subarachnoidhemorrhage','ventriculostomy','intraparenchymalhemorrhage',\n",
    "             ',','subdural','no significant','nonhemorrhag','intracerebralhemorrhage','petechialhemorrhage',\n",
    "            'or intraventricular','adjacent to','inferior to','superior to','infarct','conversion','normal',\n",
    "            'ventriculoperitoneal']\n",
    "\n",
    "transformed_reports=[]\n",
    "\n",
    "for _,row in df_overall.iterrows():\n",
    "    \n",
    "    #get the report\n",
    "    original_report=row['Report_Text_clean']\n",
    "    \n",
    "    \n",
    "    \n",
    "    #test out each of the confounders\n",
    "    for i in confounders:\n",
    "        original_report=original_report.replace(i,'.')\n",
    "\n",
    "            \n",
    "    transformed_reports.append(original_report)\n",
    "    \n",
    "df_overall['periods_add']=transformed_reports\n",
    "\n",
    "#now remove the term 'subarachnoid' as well:\n",
    "subarachnoid_removed=[]\n",
    "\n",
    "for row in transformed_reports:\n",
    "    new_row=row.replace('subarachnoid','____')\n",
    "    subarachnoid_removed.append(new_row)\n",
    "    \n",
    "df_overall['periods_add']=subarachnoid_removed"
   ]
  },
  {
   "cell_type": "code",
   "execution_count": 42,
   "metadata": {},
   "outputs": [],
   "source": [
    "ground_truth=[]\n",
    "prediction=[]\n",
    "\n",
    "for i,row in df_overall.iterrows():\n",
    "    doc=[]\n",
    "    ground_truth.append(row['IVH'])\n",
    "    for sentence in row['periods_add'].split('.'):\n",
    "        if len(in_ventricles.findall(sentence))>0:\n",
    "            doc.append(1)\n",
    "        \n",
    "        elif len(ivh_direct_mention.findall(sentence))>0:   \n",
    "            doc.append(1)\n",
    "        elif len(in_horn.findall(sentence))>0:   \n",
    "            doc.append(1)\n",
    "            \n",
    "        elif len(rupture.findall(sentence))>0:   \n",
    "            doc.append(1)\n",
    "            \n",
    "        else:\n",
    "            pass\n",
    "            \n",
    "    for sentence in row['periods_add'].split('.'):\n",
    "        if len(antimention.findall(sentence))>0:\n",
    "            doc=[]\n",
    "            \n",
    "        \n",
    "    if len(doc)>0:\n",
    "        prediction.append(1)\n",
    "    else:\n",
    "        prediction.append(0)\n",
    "        "
   ]
  },
  {
   "cell_type": "code",
   "execution_count": 43,
   "metadata": {},
   "outputs": [
    {
     "name": "stdout",
     "output_type": "stream",
     "text": [
      "sensitivity 0.9943820224719101\n",
      "precision 0.9918478260869565\n"
     ]
    }
   ],
   "source": [
    "df_overall['ground_truth']=ground_truth\n",
    "df_overall['prediction']=prediction\n",
    "tn, fp, fn, tp = confusion_matrix(ground_truth, prediction).ravel()\n",
    "sensitivity=tn/(tn+fp)\n",
    "precision=(tp+tn)/(tp+fp+tn+fn)\n",
    "print('sensitivity {}'.format(sensitivity))\n",
    "print('precision {}'.format(precision))"
   ]
  },
  {
   "cell_type": "code",
   "execution_count": 44,
   "metadata": {},
   "outputs": [
    {
     "name": "stdout",
     "output_type": "stream",
     "text": [
      "MAE, mean:0.18038000000000007, CI (0.15913254587757814, 0.201627454122422)\n",
      "Sensitivity, mean: 0.9086150793650793, CI: (0.8899606143626602, 0.9272695443674985)\n",
      "Specificity, mean: 0.9086150793650793, CI: (0.9931488409957041, 0.994671124044664)\n",
      "Accuracy, mean: 0.9947916666666666, CI: (0.9903764641067478, 0.9921235358932521)\n",
      "Precision, mean: 0.825196248196248, CI: (0.8007372413070171, 0.849655255085479)\n"
     ]
    }
   ],
   "source": [
    "np.random.seed(100)\n",
    "bmc_accuracies=[]\n",
    "bmc_sensitivities=[]\n",
    "bmc_specificities=[]\n",
    "bmc_ppvs=[]\n",
    "\n",
    "\n",
    "\n",
    "for i in range(100):\n",
    "    bootstrapped=df_overall.sample(n=200, replace=False)\n",
    "\n",
    "    ground=bootstrapped['ground_truth']\n",
    "    pred=bootstrapped['prediction']\n",
    "    tn, fp, fn, tp = confusion_matrix(ground, pred).ravel()\n",
    "    \n",
    "    \n",
    "    accuracy=(tn+tp)/(tn+tp+fn+fp)\n",
    "    sensitivity=tp/(tp+fn)\n",
    "    specificity=tn/(tn+fp)\n",
    "    ppv=tp/(tp+fp)\n",
    "    \n",
    "    \n",
    "    bmc_accuracies.append(accuracy)\n",
    "    bmc_sensitivities.append(sensitivity)\n",
    "    bmc_specificities.append(specificity)\n",
    "    bmc_ppvs.append(ppv)\n",
    "\n",
    "    \n",
    "import scipy.stats as st\n",
    "ci95_sen=st.t.interval(alpha=0.95, df=len(bmc_sensitivities)-1, loc=np.mean(bmc_sensitivities), scale=st.sem(bmc_sensitivities))\n",
    "ci95_spec=st.t.interval(alpha=0.95, df=len(bmc_specificities)-1, loc=np.mean(bmc_specificities), scale=st.sem(bmc_specificities))\n",
    "ci95_acc=st.t.interval(alpha=0.95, df=len(bmc_accuracies)-1, loc=np.mean(bmc_accuracies), scale=st.sem(bmc_accuracies))\n",
    "ci95_ppv=st.t.interval(alpha=0.95, df=len(bmc_ppvs)-1, loc=np.mean(bmc_ppvs), scale=st.sem(bmc_ppvs))\n",
    "\n",
    "\n",
    "mean_sen=np.mean(bmc_sensitivities)\n",
    "mean_spec=np.median(bmc_specificities)\n",
    "mean_acc=np.mean(bmc_accuracies)\n",
    "mean_ppv=np.mean(bmc_ppvs)\n",
    "\n",
    "print('MAE, mean:{}, CI {}'.format(mean_mae,ci95_mae))\n",
    "print('Sensitivity, mean: {}, CI: {}'.format(mean_sen,ci95_sen))\n",
    "print('Specificity, mean: {}, CI: {}'.format(mean_sen,ci95_spec))\n",
    "print('Accuracy, mean: {}, CI: {}'.format(mean_spec,ci95_acc))\n",
    "print('Precision, mean: {}, CI: {}'.format(mean_ppv,ci95_ppv))"
   ]
  },
  {
   "cell_type": "code",
   "execution_count": null,
   "metadata": {},
   "outputs": [],
   "source": []
  },
  {
   "cell_type": "code",
   "execution_count": null,
   "metadata": {},
   "outputs": [],
   "source": []
  },
  {
   "cell_type": "code",
   "execution_count": null,
   "metadata": {},
   "outputs": [],
   "source": []
  },
  {
   "cell_type": "markdown",
   "metadata": {},
   "source": [
    "### Lastly: Do this for MGB non-Large"
   ]
  },
  {
   "cell_type": "code",
   "execution_count": 80,
   "metadata": {},
   "outputs": [
    {
     "name": "stderr",
     "output_type": "stream",
     "text": [
      "/opt/anaconda3/lib/python3.7/site-packages/ipykernel_launcher.py:3: FutureWarning: Sorting because non-concatenation axis is not aligned. A future version\n",
      "of pandas will change to not sort by default.\n",
      "\n",
      "To accept the future behavior, pass 'sort=False'.\n",
      "\n",
      "To retain the current behavior and silence the warning, pass 'sort=True'.\n",
      "\n",
      "  This is separate from the ipykernel package so we can avoid doing imports until\n"
     ]
    }
   ],
   "source": [
    "batch1=pd.read_csv('OCTOBER15_BWH_NONLARGE_BATCH1.csv')\n",
    "batch2=pd.read_csv('OCTOBER15_BWH_NONLARGE_BATCH2.csv')\n",
    "together=pd.concat([batch1,batch2])\n",
    "together=together[['Location_Report_ID','Unprocessed_Report_Text','ivh_v2']]\n",
    "together=together.rename(columns={'Location_Report_ID':'Report_ID','Unprocessed_Report_Text':'Report_Text',\n",
    "                                 'ivh_v2':'IVH'})"
   ]
  },
  {
   "cell_type": "code",
   "execution_count": 81,
   "metadata": {},
   "outputs": [
    {
     "data": {
      "text/plain": [
       "0    502\n",
       "1     18\n",
       "Name: IVH, dtype: int64"
      ]
     },
     "execution_count": 81,
     "metadata": {},
     "output_type": "execute_result"
    }
   ],
   "source": [
    "together['IVH']=together['IVH'].fillna(1.0)\n",
    "together['IVH'].value_counts(dropna=False)\n",
    "together['IVH']=together['IVH'].apply(lambda x:0 if x==1 else 1)\n",
    "together['IVH'].value_counts(dropna=False)"
   ]
  },
  {
   "cell_type": "code",
   "execution_count": 82,
   "metadata": {},
   "outputs": [],
   "source": [
    "df_overall = clean_and_featurize(together,wordgroups)\n",
    "#df_overall=df_overall[np.logical_or(df_overall['IVH']==0,df_overall['IVH']==1)]"
   ]
  },
  {
   "cell_type": "code",
   "execution_count": 83,
   "metadata": {},
   "outputs": [],
   "source": [
    "confounders=['masseffect','mass-effect','effacement','compression','periventricular',\n",
    "            'subarachnoidhemorrhage','ventriculostomy','intraparenchymalhemorrhage',\n",
    "             ',','subdural','no significant','nonhemorrhag','intracerebralhemorrhage','petechialhemorrhage',\n",
    "            'or intraventricular','adjacent to','inferior to','superior to','infarct','conversion','normal',\n",
    "            'ventriculoperitoneal']\n",
    "\n",
    "transformed_reports=[]\n",
    "\n",
    "for _,row in df_overall.iterrows():\n",
    "    \n",
    "    #get the report\n",
    "    original_report=row['Report_Text_clean']\n",
    "    \n",
    "    \n",
    "    \n",
    "    #test out each of the confounders\n",
    "    for i in confounders:\n",
    "        original_report=original_report.replace(i,'.')\n",
    "\n",
    "            \n",
    "    transformed_reports.append(original_report)\n",
    "    \n",
    "df_overall['periods_add']=transformed_reports\n",
    "\n",
    "#now remove the term 'subarachnoid' as well:\n",
    "subarachnoid_removed=[]\n",
    "\n",
    "for row in transformed_reports:\n",
    "    new_row=row.replace('subarachnoid','____')\n",
    "    subarachnoid_removed.append(new_row)\n",
    "    \n",
    "df_overall['periods_add']=subarachnoid_removed"
   ]
  },
  {
   "cell_type": "code",
   "execution_count": 84,
   "metadata": {},
   "outputs": [],
   "source": [
    "ground_truth=[]\n",
    "prediction=[]\n",
    "\n",
    "for i,row in df_overall.iterrows():\n",
    "    doc=[]\n",
    "    ground_truth.append(row['IVH'])\n",
    "    for sentence in row['periods_add'].split('.'):\n",
    "        if len(in_ventricles.findall(sentence))>0:\n",
    "            doc.append(1)\n",
    "        \n",
    "        elif len(ivh_direct_mention.findall(sentence))>0:   \n",
    "            doc.append(1)\n",
    "        elif len(in_horn.findall(sentence))>0:   \n",
    "            doc.append(1)\n",
    "            \n",
    "        elif len(rupture.findall(sentence))>0:   \n",
    "            doc.append(1)\n",
    "            \n",
    "        else:\n",
    "            pass\n",
    "            \n",
    "    for sentence in row['periods_add'].split('.'):\n",
    "        if len(antimention.findall(sentence))>0:\n",
    "            doc=[]\n",
    "            \n",
    "        \n",
    "    if len(doc)>0:\n",
    "        prediction.append(1)\n",
    "    else:\n",
    "        prediction.append(0)\n",
    "        "
   ]
  },
  {
   "cell_type": "code",
   "execution_count": 85,
   "metadata": {},
   "outputs": [
    {
     "name": "stdout",
     "output_type": "stream",
     "text": [
      "sensitivity 0.9444444444444444\n",
      "precision 0.85\n"
     ]
    }
   ],
   "source": [
    "df_overall['ground_truth']=ground_truth\n",
    "df_overall['prediction']=prediction\n",
    "tn, fp, fn, tp = confusion_matrix(ground_truth, prediction).ravel()\n",
    "sensitivity=tp/(tp+fn)\n",
    "precision=(tp)/(tp+fp)\n",
    "print('sensitivity {}'.format(sensitivity))\n",
    "print('precision {}'.format(precision))"
   ]
  },
  {
   "cell_type": "code",
   "execution_count": 89,
   "metadata": {},
   "outputs": [
    {
     "name": "stdout",
     "output_type": "stream",
     "text": [
      "Sensitivity, mean: 0.9392456709956711, CI: (0.9239622495110035, 0.9545290924803388)\n",
      "Specificity, mean: 0.9392456709956711, CI: (0.9939987790250262, 0.9956385266744556)\n",
      "Accuracy, mean: 0.9948186528497409, CI: (0.9912897185894054, 0.9932102814105943)\n",
      "Precision, mean: 0.847641774891775, CI: (0.8262918971648882, 0.8689916526186617)\n"
     ]
    }
   ],
   "source": [
    "np.random.seed(100)\n",
    "bmc_accuracies=[]\n",
    "bmc_sensitivities=[]\n",
    "bmc_specificities=[]\n",
    "bmc_ppvs=[]\n",
    "\n",
    "\n",
    "\n",
    "for i in range(100):\n",
    "    bootstrapped=df_overall.sample(n=200, replace=False)\n",
    "\n",
    "    ground=bootstrapped['ground_truth']\n",
    "    pred=bootstrapped['prediction']\n",
    "    tn, fp, fn, tp = confusion_matrix(ground, pred).ravel()\n",
    "    \n",
    "    \n",
    "    accuracy=(tn+tp)/(tn+tp+fn+fp)\n",
    "    sensitivity=tp/(tp+fn)\n",
    "    specificity=tn/(tn+fp)\n",
    "    ppv=tp/(tp+fp)\n",
    "    \n",
    "    \n",
    "    bmc_accuracies.append(accuracy)\n",
    "    bmc_sensitivities.append(sensitivity)\n",
    "    bmc_specificities.append(specificity)\n",
    "    bmc_ppvs.append(ppv)\n",
    "\n",
    "    \n",
    "import scipy.stats as st\n",
    "ci95_sen=st.t.interval(alpha=0.95, df=len(bmc_sensitivities)-1, loc=np.mean(bmc_sensitivities), scale=st.sem(bmc_sensitivities))\n",
    "ci95_spec=st.t.interval(alpha=0.95, df=len(bmc_specificities)-1, loc=np.median(bmc_specificities), scale=st.sem(bmc_specificities))\n",
    "ci95_acc=st.t.interval(alpha=0.95, df=len(bmc_accuracies)-1, loc=np.mean(bmc_accuracies), scale=st.sem(bmc_accuracies))\n",
    "ci95_ppv=st.t.interval(alpha=0.95, df=len(bmc_ppvs)-1, loc=np.mean(bmc_ppvs), scale=st.sem(bmc_ppvs))\n",
    "\n",
    "\n",
    "mean_sen=np.mean(bmc_sensitivities)\n",
    "mean_spec=np.median(bmc_specificities)\n",
    "mean_acc=np.mean(bmc_accuracies)\n",
    "mean_ppv=np.mean(bmc_ppvs)\n",
    "\n",
    "#print('MAE, mean:{}, CI {}'.format(mean_mae,ci95_mae))\n",
    "print('Sensitivity, mean: {}, CI: {}'.format(mean_sen,ci95_sen))\n",
    "print('Specificity, mean: {}, CI: {}'.format(mean_sen,ci95_spec))\n",
    "print('Accuracy, mean: {}, CI: {}'.format(mean_spec,ci95_acc))\n",
    "print('Precision, mean: {}, CI: {}'.format(mean_ppv,ci95_ppv))"
   ]
  },
  {
   "cell_type": "code",
   "execution_count": 92,
   "metadata": {},
   "outputs": [],
   "source": [
    "def mean_confidence_interval(data, confidence=0.95):\n",
    "    a = 1.0 * np.array(data)\n",
    "    n = len(a)\n",
    "    m, se = np.mean(a), st.sem(a)\n",
    "    h = se * st.t.ppf((1 + confidence) / 2., n-1)\n",
    "    return m, m-h, m+h"
   ]
  },
  {
   "cell_type": "code",
   "execution_count": 95,
   "metadata": {},
   "outputs": [
    {
     "data": {
      "text/plain": [
       "(0.847641774891775, 0.8262918971648882, 0.8689916526186617)"
      ]
     },
     "execution_count": 95,
     "metadata": {},
     "output_type": "execute_result"
    }
   ],
   "source": [
    "mean_confidence_interval(bmc_ppvs)"
   ]
  },
  {
   "cell_type": "code",
   "execution_count": null,
   "metadata": {},
   "outputs": [],
   "source": []
  }
 ],
 "metadata": {
  "kernelspec": {
   "display_name": "Python 3",
   "language": "python",
   "name": "python3"
  },
  "language_info": {
   "codemirror_mode": {
    "name": "ipython",
    "version": 3
   },
   "file_extension": ".py",
   "mimetype": "text/x-python",
   "name": "python",
   "nbconvert_exporter": "python",
   "pygments_lexer": "ipython3",
   "version": "3.7.4"
  }
 },
 "nbformat": 4,
 "nbformat_minor": 2
}
